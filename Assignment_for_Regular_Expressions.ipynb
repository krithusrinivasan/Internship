{
  "cells": [
    {
      "cell_type": "markdown",
      "metadata": {
        "id": "view-in-github",
        "colab_type": "text"
      },
      "source": [
        "<a href=\"https://colab.research.google.com/github/krithusrinivasan/Internship/blob/main/Assignment_for_Regular_Expressions.ipynb\" target=\"_parent\"><img src=\"https://colab.research.google.com/assets/colab-badge.svg\" alt=\"Open In Colab\"/></a>"
      ]
    },
    {
      "cell_type": "code",
      "execution_count": null,
      "id": "88dd9dfa-25cd-4306-94ac-74dbf1a46b46",
      "metadata": {
        "id": "88dd9dfa-25cd-4306-94ac-74dbf1a46b46"
      },
      "outputs": [],
      "source": [
        "import re\n",
        "# import Libraries"
      ]
    },
    {
      "cell_type": "code",
      "execution_count": null,
      "id": "b8552653-7018-4ada-884c-2a9b4418bf8f",
      "metadata": {
        "id": "b8552653-7018-4ada-884c-2a9b4418bf8f"
      },
      "outputs": [],
      "source": [
        "#1 #Sample Text\n",
        "sample_text ='Python Exercises, PHP exercises.'"
      ]
    },
    {
      "cell_type": "code",
      "execution_count": null,
      "id": "744bae70-c9f5-4f80-848e-16490905b302",
      "metadata": {
        "id": "744bae70-c9f5-4f80-848e-16490905b302"
      },
      "outputs": [],
      "source": [
        "# Replace space, comma, or dot with a colon\n",
        "expected_output = re.sub(r'[ ,.]', ':', sample_text)"
      ]
    },
    {
      "cell_type": "code",
      "execution_count": null,
      "id": "55ac7592-2b4a-4283-b826-964ee74589c1",
      "metadata": {
        "scrolled": true,
        "id": "55ac7592-2b4a-4283-b826-964ee74589c1",
        "outputId": "f618a22a-ee59-4038-c08f-d025fda91487"
      },
      "outputs": [
        {
          "name": "stdout",
          "output_type": "stream",
          "text": [
            "Python:Exercises::PHP:exercises:\n"
          ]
        }
      ],
      "source": [
        "# Print Output\n",
        "print(expected_output)"
      ]
    },
    {
      "cell_type": "code",
      "execution_count": null,
      "id": "6f4fb534-3406-4734-b00f-b88a559ab9e9",
      "metadata": {
        "id": "6f4fb534-3406-4734-b00f-b88a559ab9e9"
      },
      "outputs": [],
      "source": [
        "#2 # import Libraries\n",
        "import pandas as pd"
      ]
    },
    {
      "cell_type": "code",
      "execution_count": null,
      "id": "4d46a19c-dbd7-46f9-bf73-fd8403c98982",
      "metadata": {
        "id": "4d46a19c-dbd7-46f9-bf73-fd8403c98982"
      },
      "outputs": [],
      "source": [
        "# Data input\n",
        "dictionary = {'SUMMARY': ['hello, world!', 'XXXXX test', '123four, five:; six...']}"
      ]
    },
    {
      "cell_type": "code",
      "execution_count": null,
      "id": "97e9debd-bac7-492f-85e3-e3ed938c4576",
      "metadata": {
        "id": "97e9debd-bac7-492f-85e3-e3ed938c4576"
      },
      "outputs": [],
      "source": [
        "# dataframe creation\n",
        "df = pd.DataFrame(dictionary)"
      ]
    },
    {
      "cell_type": "code",
      "execution_count": null,
      "id": "6cedb1b6-b167-4196-83fa-84f3bf6d936f",
      "metadata": {
        "id": "6cedb1b6-b167-4196-83fa-84f3bf6d936f"
      },
      "outputs": [],
      "source": [
        "# Function to clean the data\n",
        "def clean_text(text):\n",
        "    text = re.sub(r'[^a-zA-Z\\s]', '', text) # remove non-alphabetic character and use only words\n",
        "    text = re.sub(r'\\bXXXXX\\b', '', text) # remove unwanted words\n",
        "    return text"
      ]
    },
    {
      "cell_type": "code",
      "execution_count": null,
      "id": "84ab4d72-a785-42a7-8135-635f61887f31",
      "metadata": {
        "id": "84ab4d72-a785-42a7-8135-635f61887f31"
      },
      "outputs": [],
      "source": [
        "# Apply the clean_text function to the 'SUMMARY' column\n",
        "df['SUMMARY'] = df['SUMMARY'].apply(clean_text)"
      ]
    },
    {
      "cell_type": "code",
      "execution_count": null,
      "id": "999b28c4-1495-4d72-9028-10d399cf46f0",
      "metadata": {
        "id": "999b28c4-1495-4d72-9028-10d399cf46f0",
        "outputId": "014b738f-db63-4ec1-f980-e2a49d883273"
      },
      "outputs": [
        {
          "name": "stdout",
          "output_type": "stream",
          "text": [
            "         SUMMARY\n",
            "0    hello world\n",
            "1           test\n",
            "2  four five six\n"
          ]
        }
      ],
      "source": [
        "# pritn output\n",
        "print(df)"
      ]
    },
    {
      "cell_type": "code",
      "execution_count": null,
      "id": "b02ac831-4c06-4a99-a9d0-e40e6bd19250",
      "metadata": {
        "id": "b02ac831-4c06-4a99-a9d0-e40e6bd19250"
      },
      "outputs": [],
      "source": [
        "# 3\n",
        "def find_long_words(text):\n",
        "    # To find words of at least 4 characters\n",
        "    string = re.compile(r'\\b\\w{4,}\\b')\n",
        "    # Find matches in the text\n",
        "    long_words = string.findall(text)\n",
        "    return long_words"
      ]
    },
    {
      "cell_type": "code",
      "execution_count": null,
      "id": "62bcff8f-4297-43c7-aded-bd2903ae5adc",
      "metadata": {
        "id": "62bcff8f-4297-43c7-aded-bd2903ae5adc",
        "outputId": "6182ceb2-4f0e-4ed7-aa03-ec57356db75a"
      },
      "outputs": [
        {
          "name": "stdout",
          "output_type": "stream",
          "text": [
            "['Create', 'function', 'python', 'find', 'words', 'that', 'least', 'characters', 'long', 'string']\n"
          ]
        }
      ],
      "source": [
        "text = 'Create a function in python to find all words that are at least 4 characters long in a string.'\n",
        "result = find_long_words(text)\n",
        "print(result)"
      ]
    },
    {
      "cell_type": "code",
      "execution_count": null,
      "id": "60559379-526c-453a-b4ff-daecdaa6efe0",
      "metadata": {
        "id": "60559379-526c-453a-b4ff-daecdaa6efe0"
      },
      "outputs": [],
      "source": [
        "# 4\n",
        "def find_specific_length_words(text):\n",
        "    # Regex pattern to find words with 3, 4, or 5 characters\n",
        "    pattern = re.compile(r'\\b\\w{3,5}\\b')\n",
        "    # Find matches in the text\n",
        "    all_words = pattern.findall(text)\n",
        "    # Find words that are exactly 3, 4, or 5 characters long\n",
        "    specific_length_words = [word for word in all_words if 3 <= len(word) <= 5]\n",
        "    return specific_length_words"
      ]
    },
    {
      "cell_type": "code",
      "execution_count": null,
      "id": "3e8a8c92-5b71-42f2-b95f-15393e99c7b2",
      "metadata": {
        "id": "3e8a8c92-5b71-42f2-b95f-15393e99c7b2",
        "outputId": "fd261d65-897e-4174-ca5f-8c8f608c72a3"
      },
      "outputs": [
        {
          "name": "stdout",
          "output_type": "stream",
          "text": [
            "['find', 'all', 'three', 'four', 'and', 'five', 'words']\n"
          ]
        }
      ],
      "source": [
        "text = 'Create a function in python to find all three, four, and five character words in a string.'\n",
        "result = find_specific_length_words(text)\n",
        "print(result)"
      ]
    },
    {
      "cell_type": "code",
      "execution_count": null,
      "id": "6924ec51-3893-4131-8659-5c6ab8a0e82a",
      "metadata": {
        "id": "6924ec51-3893-4131-8659-5c6ab8a0e82a"
      },
      "outputs": [],
      "source": [
        "# 5\n",
        "def clean_strings(string_list):\n",
        "    # Regex pattern to match parentheses and their contents\n",
        "    pattern = re.compile(r\"\\(|\\)\")\n",
        "    # Process each string in the list\n",
        "    cleaned_strings = []\n",
        "    for s in string_list:\n",
        "        cleaned = re.sub(pattern,\"\", s)\n",
        "        cleaned_strings.append(cleaned)\n",
        "    return cleaned_strings"
      ]
    },
    {
      "cell_type": "code",
      "execution_count": null,
      "id": "d8020a9f-72a7-4d76-b41c-883faedb8f08",
      "metadata": {
        "id": "d8020a9f-72a7-4d76-b41c-883faedb8f08"
      },
      "outputs": [],
      "source": [
        "# data input\n",
        "data = [\"example (.com)\",\n",
        "    \"hr@fliprobo (.com)\",\n",
        "    \"github (.com)\",\n",
        "    \"Hello (Data Science World)\",\n",
        "    \"Data (Scientist)\"]"
      ]
    },
    {
      "cell_type": "code",
      "execution_count": null,
      "id": "473c20e5-c435-43e1-a841-99ab7e4211bd",
      "metadata": {
        "id": "473c20e5-c435-43e1-a841-99ab7e4211bd",
        "outputId": "a0c734ac-a40c-4b61-8aa3-6a91bdb5377a"
      },
      "outputs": [
        {
          "name": "stdout",
          "output_type": "stream",
          "text": [
            "example .com\n",
            "hr@fliprobo .com\n",
            "github .com\n",
            "Hello Data Science World\n",
            "Data Scientist\n"
          ]
        }
      ],
      "source": [
        "# Remove parentheses and their contents\n",
        "output = clean_strings(data)\n",
        "for item in output:\n",
        "    print(item)"
      ]
    },
    {
      "cell_type": "code",
      "execution_count": null,
      "id": "4787115d-265a-4115-bd67-df7aeb50234d",
      "metadata": {
        "id": "4787115d-265a-4115-bd67-df7aeb50234d"
      },
      "outputs": [],
      "source": [
        "# 6 # Define the function with a parameter for the file path\n",
        "def remove_parentheses_from_file(file_path):\n",
        "    # Read the text file and store the content in a variable\n",
        "    with open(file_path, 'r') as file:\n",
        "        text = file.read()\n",
        "    # Regular expressions to remove the parenthesis area\n",
        "    new_text = re.sub(r\"\\s*\\([^)]*\\)\", \"\", text)\n",
        "    # Print the new text\n",
        "    print(new_text)\n",
        "    # Optionally, write the cleaned text back to the file\n",
        "    with open(file_path, 'w') as file:\n",
        "        file.write(new_text)"
      ]
    },
    {
      "cell_type": "code",
      "execution_count": null,
      "id": "ec5a523b-8ae8-42d8-a9cf-40b1566fff04",
      "metadata": {
        "id": "ec5a523b-8ae8-42d8-a9cf-40b1566fff04"
      },
      "outputs": [],
      "source": [
        "# Specify the file path\n",
        "file_path = r\"C:\\Users\\user\\Desktop\\samplefile.txt\"\n"
      ]
    },
    {
      "cell_type": "code",
      "execution_count": null,
      "id": "4cae2d81-def0-42d8-8e35-3cce57b3d840",
      "metadata": {
        "id": "4cae2d81-def0-42d8-8e35-3cce57b3d840",
        "outputId": "a9666b60-cd70-428c-d33f-3fc62b403b5e"
      },
      "outputs": [
        {
          "name": "stdout",
          "output_type": "stream",
          "text": [
            "[\"example\", \n",
            "\"hr@fliprobo\", \n",
            "\"github\", \n",
            "\"Hello\", \n",
            "\"Data\"]\n",
            "\n"
          ]
        }
      ],
      "source": [
        "# Call the function with the file path\n",
        "remove_parentheses_from_file(file_path)"
      ]
    },
    {
      "cell_type": "code",
      "execution_count": null,
      "id": "2830e7f2-ac4b-4baf-a106-e31f02bac8d2",
      "metadata": {
        "id": "2830e7f2-ac4b-4baf-a106-e31f02bac8d2"
      },
      "outputs": [],
      "source": [
        "# 7\n",
        "def split_by_uppercase(input_string):\n",
        "    # To split at positions where an uppercase letter is followed by lowercase letters\n",
        "    output = re.findall(r'[A-Z][a-z]*', input_string)\n",
        "    return output"
      ]
    },
    {
      "cell_type": "code",
      "execution_count": null,
      "id": "cc2c4990-a8f9-4501-8a9d-7e10b71ef570",
      "metadata": {
        "id": "cc2c4990-a8f9-4501-8a9d-7e10b71ef570"
      },
      "outputs": [],
      "source": [
        "# Sample text\n",
        "sample_text = \"ImportanceOfRegularExpressionsInPython\""
      ]
    },
    {
      "cell_type": "code",
      "execution_count": null,
      "id": "1827c49d-8134-4834-8d0a-42608dbc4dd2",
      "metadata": {
        "id": "1827c49d-8134-4834-8d0a-42608dbc4dd2",
        "outputId": "e5d8f72a-a54d-463e-cd8e-93fbfc9b4f99"
      },
      "outputs": [
        {
          "name": "stdout",
          "output_type": "stream",
          "text": [
            "['Importance', 'Of', 'Regular', 'Expressions', 'In', 'Python']\n"
          ]
        }
      ],
      "source": [
        "# Call the function and print the result\n",
        "result = split_by_uppercase(sample_text)\n",
        "print(result)"
      ]
    },
    {
      "cell_type": "code",
      "execution_count": null,
      "id": "3eee7c2f-2399-4fcf-ad8c-8963eb71fde5",
      "metadata": {
        "id": "3eee7c2f-2399-4fcf-ad8c-8963eb71fde5"
      },
      "outputs": [],
      "source": [
        "# 8\n",
        "def add_spaces_before_numbers(text_input):\n",
        "    # To add a space before numbers followed by word characters\n",
        "    spaced_text = re.sub(r'(\\d)', r' \\1', text_input)\n",
        "    return spaced_text"
      ]
    },
    {
      "cell_type": "code",
      "execution_count": null,
      "id": "b0bcc9bd-b956-4a79-8517-92c5e1ebfc8b",
      "metadata": {
        "id": "b0bcc9bd-b956-4a79-8517-92c5e1ebfc8b"
      },
      "outputs": [],
      "source": [
        "# Sample input\n",
        "sentence = \"RegularExpression1IsAn2ImportantTopic3InPython\""
      ]
    },
    {
      "cell_type": "code",
      "execution_count": null,
      "id": "32f316e6-7dbc-4a99-9a4e-dd98b62c9306",
      "metadata": {
        "id": "32f316e6-7dbc-4a99-9a4e-dd98b62c9306",
        "outputId": "cb397a12-2ce3-4162-b072-34522720ef04"
      },
      "outputs": [
        {
          "name": "stdout",
          "output_type": "stream",
          "text": [
            "RegularExpression 1IsAn 2ImportantTopic 3InPython\n"
          ]
        }
      ],
      "source": [
        "# Call the function and print the result\n",
        "result = add_spaces_before_numbers(sentence)\n",
        "print(result)"
      ]
    },
    {
      "cell_type": "code",
      "execution_count": null,
      "id": "0ffe191b-68da-4323-93c7-77f0d2af12fe",
      "metadata": {
        "id": "0ffe191b-68da-4323-93c7-77f0d2af12fe"
      },
      "outputs": [],
      "source": [
        "# 9\n",
        "def insert_spaces_before_capitals_and_numbers(text_input):\n",
        "    # To add a space before capital letters and numbers\n",
        "    spaced_text = re.sub(r'(?<!^)(?<!\\s)([A-Z0-9])', r' \\1', text_input)\n",
        "    # Strip leading space if any\n",
        "    spaced_text = spaced_text.strip()\n",
        "    return spaced_text"
      ]
    },
    {
      "cell_type": "code",
      "execution_count": null,
      "id": "ecc52e96-84c8-45a3-ac21-241068bc0bb1",
      "metadata": {
        "id": "ecc52e96-84c8-45a3-ac21-241068bc0bb1"
      },
      "outputs": [],
      "source": [
        "# Sample input\n",
        "sample_string = \"RegularExpression1IsAn2ImportantTopic3InPython\""
      ]
    },
    {
      "cell_type": "code",
      "execution_count": null,
      "id": "5b65e73b-cdf0-4b24-92ee-2d77f254bc46",
      "metadata": {
        "id": "5b65e73b-cdf0-4b24-92ee-2d77f254bc46",
        "outputId": "a73620aa-69ca-43dc-8d8f-a8656853ecab"
      },
      "outputs": [
        {
          "name": "stdout",
          "output_type": "stream",
          "text": [
            "Regular Expression 1 Is An 2 Important Topic 3 In Python\n"
          ]
        }
      ],
      "source": [
        "# Call the function and print the result\n",
        "result = insert_spaces_before_capitals_and_numbers(sample_string)\n",
        "print(result)"
      ]
    },
    {
      "cell_type": "code",
      "execution_count": null,
      "id": "087c29f7-8451-42af-a979-5d38888c9947",
      "metadata": {
        "id": "087c29f7-8451-42af-a979-5d38888c9947"
      },
      "outputs": [],
      "source": [
        "# 10\n",
        "import pandas as pd"
      ]
    },
    {
      "cell_type": "code",
      "execution_count": null,
      "id": "9a8b1ae0-424c-4a64-a791-b26f3042d953",
      "metadata": {
        "id": "9a8b1ae0-424c-4a64-a791-b26f3042d953"
      },
      "outputs": [],
      "source": [
        "# Read the data link\n",
        "url = 'https://raw.githubusercontent.com/dsrscientist/DSData/master/happiness_score_dataset.csv'\n",
        "# Read the data into a DataFrame\n",
        "df = pd.read_csv(url)"
      ]
    },
    {
      "cell_type": "code",
      "execution_count": null,
      "id": "dbf16977-7d45-4ed6-a533-b13f12a16f7c",
      "metadata": {
        "id": "dbf16977-7d45-4ed6-a533-b13f12a16f7c"
      },
      "outputs": [],
      "source": [
        "# Extract the first 6 letters of each country and store in a new column name first_five_letters\n",
        "df['first_five_letters'] = df['Country'].str[:6]"
      ]
    },
    {
      "cell_type": "code",
      "execution_count": null,
      "id": "f88202f9-3847-4131-8518-126494fd9c1c",
      "metadata": {
        "id": "f88202f9-3847-4131-8518-126494fd9c1c",
        "outputId": "735899a1-3561-4dd8-eef7-486b659418e8"
      },
      "outputs": [
        {
          "name": "stdout",
          "output_type": "stream",
          "text": [
            "         Country                           Region  Happiness Rank  \\\n",
            "0    Switzerland                   Western Europe               1   \n",
            "1        Iceland                   Western Europe               2   \n",
            "2        Denmark                   Western Europe               3   \n",
            "3         Norway                   Western Europe               4   \n",
            "4         Canada                    North America               5   \n",
            "..           ...                              ...             ...   \n",
            "153       Rwanda               Sub-Saharan Africa             154   \n",
            "154        Benin               Sub-Saharan Africa             155   \n",
            "155        Syria  Middle East and Northern Africa             156   \n",
            "156      Burundi               Sub-Saharan Africa             157   \n",
            "157         Togo               Sub-Saharan Africa             158   \n",
            "\n",
            "     Happiness Score  Standard Error  Economy (GDP per Capita)   Family  \\\n",
            "0              7.587         0.03411                   1.39651  1.34951   \n",
            "1              7.561         0.04884                   1.30232  1.40223   \n",
            "2              7.527         0.03328                   1.32548  1.36058   \n",
            "3              7.522         0.03880                   1.45900  1.33095   \n",
            "4              7.427         0.03553                   1.32629  1.32261   \n",
            "..               ...             ...                       ...      ...   \n",
            "153            3.465         0.03464                   0.22208  0.77370   \n",
            "154            3.340         0.03656                   0.28665  0.35386   \n",
            "155            3.006         0.05015                   0.66320  0.47489   \n",
            "156            2.905         0.08658                   0.01530  0.41587   \n",
            "157            2.839         0.06727                   0.20868  0.13995   \n",
            "\n",
            "     Health (Life Expectancy)  Freedom  Trust (Government Corruption)  \\\n",
            "0                     0.94143  0.66557                        0.41978   \n",
            "1                     0.94784  0.62877                        0.14145   \n",
            "2                     0.87464  0.64938                        0.48357   \n",
            "3                     0.88521  0.66973                        0.36503   \n",
            "4                     0.90563  0.63297                        0.32957   \n",
            "..                        ...      ...                            ...   \n",
            "153                   0.42864  0.59201                        0.55191   \n",
            "154                   0.31910  0.48450                        0.08010   \n",
            "155                   0.72193  0.15684                        0.18906   \n",
            "156                   0.22396  0.11850                        0.10062   \n",
            "157                   0.28443  0.36453                        0.10731   \n",
            "\n",
            "     Generosity  Dystopia Residual first_five_letters  \n",
            "0       0.29678            2.51738             Switze  \n",
            "1       0.43630            2.70201             Icelan  \n",
            "2       0.34139            2.49204             Denmar  \n",
            "3       0.34699            2.46531             Norway  \n",
            "4       0.45811            2.45176             Canada  \n",
            "..          ...                ...                ...  \n",
            "153     0.22628            0.67042             Rwanda  \n",
            "154     0.18260            1.63328              Benin  \n",
            "155     0.47179            0.32858              Syria  \n",
            "156     0.19727            1.83302             Burund  \n",
            "157     0.16681            1.56726               Togo  \n",
            "\n",
            "[158 rows x 13 columns]\n"
          ]
        }
      ],
      "source": [
        "# Display DataFrame\n",
        "print(df)"
      ]
    },
    {
      "cell_type": "code",
      "execution_count": null,
      "id": "e842cf72-138d-4163-bf9f-409dc2483bc1",
      "metadata": {
        "id": "e842cf72-138d-4163-bf9f-409dc2483bc1"
      },
      "outputs": [],
      "source": [
        "# 11\n",
        "def match_string(input_string):\n",
        "    # Regular expression pattern to match a string containing only letters, numbers, and underscores\n",
        "    pattern = r'^[A-Za-z0-9_]+$'\n",
        "    # Use re.match to check if the entire string matches the pattern\n",
        "    if re.match(pattern, input_string):\n",
        "        return True\n",
        "    else:\n",
        "        return False"
      ]
    },
    {
      "cell_type": "code",
      "execution_count": null,
      "id": "1db78922-699d-4971-884f-1f9dcb733a6d",
      "metadata": {
        "id": "1db78922-699d-4971-884f-1f9dcb733a6d"
      },
      "outputs": [],
      "source": [
        "# Test the function\n",
        "test_string_1 = \"Sample_text123\"\n",
        "test_string_2 = \"Invalid-Sample!\""
      ]
    },
    {
      "cell_type": "code",
      "execution_count": null,
      "id": "9397f5c2-026b-4d8c-ac02-9a2675e5f4c3",
      "metadata": {
        "id": "9397f5c2-026b-4d8c-ac02-9a2675e5f4c3",
        "outputId": "ff4462fb-c588-41c0-f913-1b23a3e7e185"
      },
      "outputs": [
        {
          "name": "stdout",
          "output_type": "stream",
          "text": [
            "True\n",
            "False\n"
          ]
        }
      ],
      "source": [
        "print(match_string(test_string_1))\n",
        "print(match_string(test_string_2))"
      ]
    },
    {
      "cell_type": "code",
      "execution_count": null,
      "id": "58fc6292-11dd-4979-9c46-65b2602fb2c4",
      "metadata": {
        "id": "58fc6292-11dd-4979-9c46-65b2602fb2c4"
      },
      "outputs": [],
      "source": [
        "# 12\n",
        "def start_with_number(input_string, number):\n",
        "    # Regular expression pattern that checks if the string starts with the specific number\n",
        "    pattern = r'^' + str(number)\n",
        "    # To check if the string starts with the specific number\n",
        "    if re.match(pattern, input_string):\n",
        "        return True\n",
        "    else:\n",
        "        return False"
      ]
    },
    {
      "cell_type": "code",
      "execution_count": null,
      "id": "facfa43f-879a-440c-a7b6-ccc3a6b2e9a7",
      "metadata": {
        "id": "facfa43f-879a-440c-a7b6-ccc3a6b2e9a7"
      },
      "outputs": [],
      "source": [
        "# Test the function\n",
        "test_string_1 = \"123abc\"\n",
        "test_string_2 = \"864def\"\n",
        "specific_number = 123"
      ]
    },
    {
      "cell_type": "code",
      "execution_count": null,
      "id": "b9b46a9e-a824-4a51-b552-0e4c76d92023",
      "metadata": {
        "id": "b9b46a9e-a824-4a51-b552-0e4c76d92023",
        "outputId": "b46ecb84-5e7a-4308-dde0-612a84ede7ff"
      },
      "outputs": [
        {
          "name": "stdout",
          "output_type": "stream",
          "text": [
            "True\n",
            "False\n"
          ]
        }
      ],
      "source": [
        "# Print thr results\n",
        "print(start_with_number(test_string_1, specific_number))\n",
        "print(start_with_number(test_string_2, specific_number))"
      ]
    },
    {
      "cell_type": "code",
      "execution_count": null,
      "id": "ae46392e-5856-4250-b48b-cace29c67871",
      "metadata": {
        "id": "ae46392e-5856-4250-b48b-cace29c67871"
      },
      "outputs": [],
      "source": [
        "# 13\n",
        "def remove_leading_zeros(ip_address):\n",
        "    # Regular expression to remove leading zeros from each block of the IP address\n",
        "    regex_pattern = r'\\b0+(\\d)'\n",
        "    new_ip_address = re.sub(regex_pattern, r'\\1', ip_address)\n",
        "    return new_ip_address"
      ]
    },
    {
      "cell_type": "code",
      "execution_count": null,
      "id": "03fae116-b0d6-4a2b-9b62-32c7ce8fa40f",
      "metadata": {
        "id": "03fae116-b0d6-4a2b-9b62-32c7ce8fa40f",
        "outputId": "cee712dd-182b-4e6f-da06-93be84c911ea"
      },
      "outputs": [
        {
          "name": "stdout",
          "output_type": "stream",
          "text": [
            "192.168.1.1\n"
          ]
        }
      ],
      "source": [
        "# Test the function\n",
        "test_ip_address = \"192.168.001.001\"\n",
        "print(remove_leading_zeros(test_ip_address))"
      ]
    },
    {
      "cell_type": "code",
      "execution_count": null,
      "id": "c1051b1e-5a2f-4b76-9a80-639bcd90ea60",
      "metadata": {
        "id": "c1051b1e-5a2f-4b76-9a80-639bcd90ea60"
      },
      "outputs": [],
      "source": [
        "# 14\n",
        "def extract_date_from_file(file_path):\n",
        "    # Read the text file content\n",
        "    with open(file_path, 'r') as file:\n",
        "        content = file.read()\n",
        "    # Regular expression to match \"Month name followed by day number and year\"\n",
        "    date_pattern = r'\\b([A-Z][a-z]+ \\d{1,2}(st|nd|rd|th)? \\d{4})\\b'\n",
        "    # Search for the date pattern in the content\n",
        "    match = re.search(date_pattern, content)\n",
        "    # Return the matched date string if found\n",
        "    if match:\n",
        "        return match.group(0)\n",
        "    else:\n",
        "        return \"No date found in the specified format.\""
      ]
    },
    {
      "cell_type": "code",
      "execution_count": null,
      "id": "89dd3895-4ca4-4b7f-b83d-ec7ff5cd2900",
      "metadata": {
        "id": "89dd3895-4ca4-4b7f-b83d-ec7ff5cd2900",
        "outputId": "83f5a83c-e5b1-4c2f-a043-9e31eca30d9d"
      },
      "outputs": [
        {
          "name": "stdout",
          "output_type": "stream",
          "text": [
            "August 15th 1947\n"
          ]
        }
      ],
      "source": [
        "# Test the function\n",
        "file_path = r\"C:\\Users\\user\\Desktop\\sampletextfile.txt\"\n",
        "print(extract_date_from_file(file_path))"
      ]
    },
    {
      "cell_type": "code",
      "execution_count": null,
      "id": "1ace0fc9-b03a-4973-a9e6-0da4cf80aa90",
      "metadata": {
        "id": "1ace0fc9-b03a-4973-a9e6-0da4cf80aa90"
      },
      "outputs": [],
      "source": [
        "# 15\n",
        "def search_words(text, words):\n",
        "    # Join the words to form a regex pattern\n",
        "    pattern = r'\\b(' + '|'.join(words) + r')\\b'\n",
        "    # To find all occurrences of the pattern in the given text\n",
        "    found_words = re.findall(pattern, text)\n",
        "    return found_words"
      ]
    },
    {
      "cell_type": "code",
      "execution_count": null,
      "id": "687546fa-269e-4251-b75a-c4dbce37623c",
      "metadata": {
        "id": "687546fa-269e-4251-b75a-c4dbce37623c"
      },
      "outputs": [],
      "source": [
        "# Sample text and words to search\n",
        "sample_text = 'The quick brown fox jumps over the lazy dog.'\n",
        "search_words_list = ['fox', 'dog', 'horse']"
      ]
    },
    {
      "cell_type": "code",
      "execution_count": null,
      "id": "43156550-a105-4034-b830-dd91d4aa40be",
      "metadata": {
        "id": "43156550-a105-4034-b830-dd91d4aa40be",
        "outputId": "cadc2628-245f-40ca-86fb-7d118ab3bab4"
      },
      "outputs": [
        {
          "name": "stdout",
          "output_type": "stream",
          "text": [
            "['fox', 'dog']\n"
          ]
        }
      ],
      "source": [
        "# Call the function\n",
        "matched_words = search_words(sample_text, search_words_list)\n",
        "print(matched_words)"
      ]
    },
    {
      "cell_type": "code",
      "execution_count": null,
      "id": "e8ea190a-3840-48ee-bbed-906c0adf434b",
      "metadata": {
        "id": "e8ea190a-3840-48ee-bbed-906c0adf434b"
      },
      "outputs": [],
      "source": [
        "# 16\n",
        "def search_word_with_location(text, word):\n",
        "    # Regex pattern for the word\n",
        "    search_pattern = re.compile(r'\\b' + re.escape(word) + r'\\b')\n",
        "    # Search the word in the text\n",
        "    match = search_pattern.search(text)\n",
        "    if match:\n",
        "        return match.group(), match.start(), match.end()\n",
        "    else:\n",
        "        return None"
      ]
    },
    {
      "cell_type": "code",
      "execution_count": null,
      "id": "4e2bd964-8489-4285-8a92-7190328eb8f6",
      "metadata": {
        "id": "4e2bd964-8489-4285-8a92-7190328eb8f6"
      },
      "outputs": [],
      "source": [
        "# Sample text and word to search\n",
        "sample_text = 'The quick brown fox jumps over the lazy dog.'\n",
        "search_word = 'fox'"
      ]
    },
    {
      "cell_type": "code",
      "execution_count": null,
      "id": "795b4c55-c5d1-415f-a6cc-4401bb3976d9",
      "metadata": {
        "id": "795b4c55-c5d1-415f-a6cc-4401bb3976d9",
        "outputId": "bb787b84-1c2f-4bc0-dc18-7400ba3a1f9a"
      },
      "outputs": [
        {
          "name": "stdout",
          "output_type": "stream",
          "text": [
            "Found 'fox' at position 16 to 19\n"
          ]
        }
      ],
      "source": [
        "# Call the function\n",
        "result = search_word_with_location(sample_text, search_word)\n",
        "if result:\n",
        "    print(f\"Found '{result[0]}' at position {result[1]} to {result[2]}\")\n",
        "else:\n",
        "    print(f\"'{search_word}' not found in the text.\")"
      ]
    },
    {
      "cell_type": "code",
      "execution_count": null,
      "id": "75b18989-078c-45a7-8f9c-a9e10b42b8dd",
      "metadata": {
        "id": "75b18989-078c-45a7-8f9c-a9e10b42b8dd"
      },
      "outputs": [],
      "source": [
        "#17\n",
        "def find_substrings(text, pattern):\n",
        "    # Regex pattern to find all occurrences of the substring\n",
        "    matches_found = re.finditer(pattern, text)\n",
        "    # Collect the results in a list\n",
        "    results = [(match.group(), match.start(), match.end()) for match in matches_found]\n",
        "    return results"
      ]
    },
    {
      "cell_type": "code",
      "execution_count": null,
      "id": "7ec85104-cbc7-42d1-ae90-3d0c1ef020e5",
      "metadata": {
        "id": "7ec85104-cbc7-42d1-ae90-3d0c1ef020e5"
      },
      "outputs": [],
      "source": [
        "# Sample text and pattern to search\n",
        "sample_text = 'Python exercises, PHP exercises, C# exercises'\n",
        "search_pattern = 'exercises'"
      ]
    },
    {
      "cell_type": "code",
      "execution_count": null,
      "id": "45c65341-e45e-40d3-bbbb-f1d44d8bf7b7",
      "metadata": {
        "id": "45c65341-e45e-40d3-bbbb-f1d44d8bf7b7"
      },
      "outputs": [],
      "source": [
        "# Call the function\n",
        "result = find_substrings(sample_text, search_pattern)"
      ]
    },
    {
      "cell_type": "code",
      "execution_count": null,
      "id": "d85f305f-f03e-4364-8ab0-2c79143ed1b6",
      "metadata": {
        "id": "d85f305f-f03e-4364-8ab0-2c79143ed1b6",
        "outputId": "c50e5917-d182-43d4-c84d-48735a9c6b03"
      },
      "outputs": [
        {
          "name": "stdout",
          "output_type": "stream",
          "text": [
            "Found 'exercises' from position 7 to 16\n",
            "Found 'exercises' from position 22 to 31\n",
            "Found 'exercises' from position 36 to 45\n"
          ]
        }
      ],
      "source": [
        "# Print the results\n",
        "for match, start, end in result:\n",
        "    print(f\"Found '{match}' from position {start} to {end}\")"
      ]
    },
    {
      "cell_type": "code",
      "execution_count": null,
      "id": "bf52bfc7-3f2e-4cbd-a49c-d2f11d73413c",
      "metadata": {
        "id": "bf52bfc7-3f2e-4cbd-a49c-d2f11d73413c"
      },
      "outputs": [],
      "source": [
        "# 18\n",
        "def find_occurrences(text, pattern):\n",
        "    # To get an iterator over all matches\n",
        "    matches = re.finditer(pattern, text)\n",
        "    # List creation to store the results\n",
        "    results = [(match.group(), match.start(), match.end()) for match in matches]\n",
        "    return results"
      ]
    },
    {
      "cell_type": "code",
      "execution_count": null,
      "id": "75a98219-4a1c-4a62-9c9a-5840be865553",
      "metadata": {
        "id": "75a98219-4a1c-4a62-9c9a-5840be865553"
      },
      "outputs": [],
      "source": [
        "# Sample text and pattern to search\n",
        "sample_text = 'Data Science, Data Science, Data Science'\n",
        "search_pattern = 'Science'"
      ]
    },
    {
      "cell_type": "code",
      "execution_count": null,
      "id": "2d53b25c-9509-4313-9b2c-be554b8d5705",
      "metadata": {
        "id": "2d53b25c-9509-4313-9b2c-be554b8d5705"
      },
      "outputs": [],
      "source": [
        "# Call the function\n",
        "result = find_occurrences(sample_text, search_pattern)"
      ]
    },
    {
      "cell_type": "code",
      "execution_count": null,
      "id": "f15b6e85-22cf-4155-8181-bcc70cd4fc98",
      "metadata": {
        "id": "f15b6e85-22cf-4155-8181-bcc70cd4fc98",
        "outputId": "bf2476c1-d8e0-45ec-df04-4a41ac967189"
      },
      "outputs": [
        {
          "name": "stdout",
          "output_type": "stream",
          "text": [
            "Found 'Science' at position 5-12\n",
            "Found 'Science' at position 19-26\n",
            "Found 'Science' at position 33-40\n"
          ]
        }
      ],
      "source": [
        "# Print the results\n",
        "for match, start, end in result:\n",
        "    print(f\"Found '{match}' at position {start}-{end}\")"
      ]
    },
    {
      "cell_type": "code",
      "execution_count": null,
      "id": "4731770d-c36a-441d-80ef-aa8a1524b9fc",
      "metadata": {
        "id": "4731770d-c36a-441d-80ef-aa8a1524b9fc"
      },
      "outputs": [],
      "source": [
        "# 19\n",
        "from datetime import datetime"
      ]
    },
    {
      "cell_type": "code",
      "execution_count": null,
      "id": "276f1a2e-d0ed-457a-b66e-41e77d499b62",
      "metadata": {
        "id": "276f1a2e-d0ed-457a-b66e-41e77d499b62"
      },
      "outputs": [],
      "source": [
        "def convert_date_format(date_sample):\n",
        "    # Input date string to a datetime object\n",
        "    date_obj = datetime.strptime(date_sample, '%Y-%m-%d')\n",
        "    # Datetime format object to the desired string format\n",
        "    new_date_sample = date_obj.strftime('%d-%m-%Y')\n",
        "    return new_date_sample"
      ]
    },
    {
      "cell_type": "code",
      "execution_count": null,
      "id": "8d9ad164-83a2-4bce-a045-d3d53ad8beb4",
      "metadata": {
        "id": "8d9ad164-83a2-4bce-a045-d3d53ad8beb4",
        "outputId": "04fdfc17-61bc-4e40-9d32-38b0c80b5b68"
      },
      "outputs": [
        {
          "name": "stdout",
          "output_type": "stream",
          "text": [
            "Converted date: 24-08-2024\n"
          ]
        }
      ],
      "source": [
        "input_date = '2024-08-24'\n",
        "output_date = convert_date_format(input_date)\n",
        "print(\"Converted date:\", output_date)"
      ]
    },
    {
      "cell_type": "code",
      "execution_count": null,
      "id": "22fb4eb1-d419-48ce-bccf-ff64a0e5ee7b",
      "metadata": {
        "id": "22fb4eb1-d419-48ce-bccf-ff64a0e5ee7b"
      },
      "outputs": [],
      "source": [
        "# 20\n",
        "def find_decimal_numbers(text):\n",
        "    # Regular expression pattern\n",
        "    pattern = re.compile(r'\\b\\d+\\.\\d{1,2}\\b')\n",
        "    # Find all matches in the provided text\n",
        "    result = pattern.findall(text)\n",
        "    return result"
      ]
    },
    {
      "cell_type": "code",
      "execution_count": null,
      "id": "60fc8cf8-569a-4e8c-bdcc-3ec435a05860",
      "metadata": {
        "id": "60fc8cf8-569a-4e8c-bdcc-3ec435a05860",
        "outputId": "a2bf51e5-d5c2-4b5a-9662-02fc44a5663f"
      },
      "outputs": [
        {
          "name": "stdout",
          "output_type": "stream",
          "text": [
            "Matched decimal numbers: ['01.12', '145.8', '3.01', '27.25', '0.25']\n"
          ]
        }
      ],
      "source": [
        "# Sample text and output\n",
        "sample_text = \"01.12 0132.123 2.31875 145.8 3.01 27.25 0.25\"\n",
        "output = find_decimal_numbers(sample_text)\n",
        "print(\"Matched decimal numbers:\", output)"
      ]
    },
    {
      "cell_type": "code",
      "execution_count": null,
      "id": "ed128e9c-2b13-45e2-8edc-93ddf806e410",
      "metadata": {
        "id": "ed128e9c-2b13-45e2-8edc-93ddf806e410"
      },
      "outputs": [],
      "source": [
        "# 21\n",
        "def find_numbers_and_positions(text):\n",
        "    # Regular expression pattern to find numbers\n",
        "    pattern = re.compile(r'\\d+')\n",
        "    # Find all matches with their positions\n",
        "    matches = pattern.finditer(text)\n",
        "    # Iterate through the matches and print the numbers with their positions\n",
        "    for match in matches:\n",
        "        number = match.group()\n",
        "        position = match.start()\n",
        "        print(f\"Number: {number}, Position: {position}\")"
      ]
    },
    {
      "cell_type": "code",
      "execution_count": null,
      "id": "7a4d7f5f-3e45-414b-abac-bef0ed8c94af",
      "metadata": {
        "id": "7a4d7f5f-3e45-414b-abac-bef0ed8c94af",
        "outputId": "b227f704-aa3d-48c5-f6b9-842878ec2fda"
      },
      "outputs": [
        {
          "name": "stdout",
          "output_type": "stream",
          "text": [
            "Number: 2024, Position: 3\n",
            "Number: 2, Position: 28\n",
            "Number: 10, Position: 64\n"
          ]
        }
      ],
      "source": [
        "# Sample text and result\n",
        "sample_text = \"In 2024, I plan to complete 2 upskill course and attend minimum 10 interviews.\"\n",
        "find_numbers_and_positions(sample_text)"
      ]
    },
    {
      "cell_type": "code",
      "execution_count": null,
      "id": "96120afb-5d3f-4c60-a220-ad9dd9186a20",
      "metadata": {
        "id": "96120afb-5d3f-4c60-a220-ad9dd9186a20"
      },
      "outputs": [],
      "source": [
        "# 22\n",
        "def extract_max_numeric_value(text):\n",
        "    # Regular expression pattern to find all numbers\n",
        "    regex_pattern = re.compile(r'\\d+')\n",
        "    # Find all matches of the pattern in the text\n",
        "    numbers = regex_pattern.findall(text)\n",
        "    # Convert the list of strings to a list of integers\n",
        "    numbers = [int(num) for num in numbers]\n",
        "    # Return the maximum number from the list\n",
        "    max_value = max(numbers)\n",
        "    return max_value"
      ]
    },
    {
      "cell_type": "code",
      "execution_count": null,
      "id": "bab670b6-21a2-41f4-9f01-332ba4437b82",
      "metadata": {
        "id": "bab670b6-21a2-41f4-9f01-332ba4437b82",
        "outputId": "884f4207-7f75-4242-9fe0-be21b53a8078"
      },
      "outputs": [
        {
          "name": "stdout",
          "output_type": "stream",
          "text": [
            "The maximum numeric value is: 950\n"
          ]
        }
      ],
      "source": [
        "# Sample text and result\n",
        "sample_text = 'My marks in each semester are: 947, 896, 926, 524, 734, 950, 642'\n",
        "result = extract_max_numeric_value(sample_text)\n",
        "print(f\"The maximum numeric value is: {result}\")"
      ]
    },
    {
      "cell_type": "code",
      "execution_count": null,
      "id": "7e9a43cf-8c2f-4fa7-8a9c-a6903f22c3d6",
      "metadata": {
        "id": "7e9a43cf-8c2f-4fa7-8a9c-a6903f22c3d6"
      },
      "outputs": [],
      "source": [
        "# 23\n",
        "def insert_spaces(text):\n",
        "    # Regular expression to find positions where capital letters are preceded by lowercase letters or another capital letter\n",
        "    pattern = re.compile(r'(?<=[a-z])(?=[A-Z])')\n",
        "    # Insert space at those positions\n",
        "    spaced_text = pattern.sub(' ', text)\n",
        "    return spaced_text"
      ]
    },
    {
      "cell_type": "code",
      "execution_count": null,
      "id": "dc3eac0e-f101-43a0-bd95-92c6ae92516b",
      "metadata": {
        "id": "dc3eac0e-f101-43a0-bd95-92c6ae92516b",
        "outputId": "7a208834-1e17-43f8-9833-e25cb944b5ff"
      },
      "outputs": [
        {
          "name": "stdout",
          "output_type": "stream",
          "text": [
            "Regular Expression Is An Important Topic In Python\n"
          ]
        }
      ],
      "source": [
        "# Sample text and result\n",
        "sample_text = \"RegularExpressionIsAnImportantTopicInPython\"\n",
        "result = insert_spaces(sample_text)\n",
        "print(result)"
      ]
    },
    {
      "cell_type": "code",
      "execution_count": null,
      "id": "43666ab2-e6e3-4160-8032-f60246964d16",
      "metadata": {
        "id": "43666ab2-e6e3-4160-8032-f60246964d16"
      },
      "outputs": [],
      "source": [
        "# 24\n",
        "def find_uppercase_sequences(text):\n",
        "    # Regular expression to find sequences of one uppercase letter followed by lowercase letters\n",
        "    regex_pattern = re.compile(r'[A-Z][a-z]+')\n",
        "    # Find all matching sequences in the text\n",
        "    matches = regex_pattern.findall(text)\n",
        "    return matches"
      ]
    },
    {
      "cell_type": "code",
      "execution_count": null,
      "id": "c2eabe3f-4a6c-4434-9981-4d17533555a3",
      "metadata": {
        "id": "c2eabe3f-4a6c-4434-9981-4d17533555a3",
        "outputId": "f3d3e6bc-ec62-4e5b-d46d-453e85c2edf3"
      },
      "outputs": [
        {
          "name": "stdout",
          "output_type": "stream",
          "text": [
            "['This', 'Very', 'Important', 'Regular', 'In', 'Python']\n"
          ]
        }
      ],
      "source": [
        "# Sample text and result\n",
        "sample_text = \"This is a Very Important assignment regarding Regular expression In Python.\"\n",
        "result = find_uppercase_sequences(sample_text)\n",
        "print(result)"
      ]
    },
    {
      "cell_type": "code",
      "execution_count": null,
      "id": "f9641ab0-e780-4439-9a22-53408a38cb25",
      "metadata": {
        "id": "f9641ab0-e780-4439-9a22-53408a38cb25"
      },
      "outputs": [],
      "source": [
        "# 25\n",
        "def remove_duplicate_words(sentence):\n",
        "    # Regular expression to find continuous duplicate words\n",
        "    pattern = re.compile(r'\\b(\\w+)\\b(?:\\s+\\1\\b)+', re.IGNORECASE)\n",
        "    # Function to replace the match with just one occurrence of the word\n",
        "    def replace(match):\n",
        "        return match.group(1)\n",
        "    # Replace duplicates with a single occurrence\n",
        "    cleaned_sentence = pattern.sub(replace, sentence)\n",
        "    return cleaned_sentence"
      ]
    },
    {
      "cell_type": "code",
      "execution_count": null,
      "id": "309561c9-bfce-48e3-893e-652c5025c50e",
      "metadata": {
        "id": "309561c9-bfce-48e3-893e-652c5025c50e",
        "outputId": "4585166f-71ca-43db-cdf9-7b678db5a408"
      },
      "outputs": [
        {
          "name": "stdout",
          "output_type": "stream",
          "text": [
            "Hello world\n"
          ]
        }
      ],
      "source": [
        "# Sample text and result\n",
        "sample_text = \"Hello hello world world\"\n",
        "result = remove_duplicate_words(sample_text)\n",
        "print(result)"
      ]
    },
    {
      "cell_type": "code",
      "execution_count": null,
      "id": "6eeda432-3ec5-45e7-88fb-833029ddcb9b",
      "metadata": {
        "id": "6eeda432-3ec5-45e7-88fb-833029ddcb9b"
      },
      "outputs": [],
      "source": [
        "# 26\n",
        "def ends_with_alphanumeric(input_string):\n",
        "    # Regular expression pattern to check if the string ends with an alphanumeric character\n",
        "    pattern = re.compile(r'\\w$')\n",
        "    # Search for the pattern in the input string\n",
        "    if pattern.search(input_string):\n",
        "        return True\n",
        "    else:\n",
        "        return False"
      ]
    },
    {
      "cell_type": "code",
      "execution_count": null,
      "id": "6723f461-f67b-40c3-9999-2f12ccabdc97",
      "metadata": {
        "id": "6723f461-f67b-40c3-9999-2f12ccabdc97"
      },
      "outputs": [],
      "source": [
        "# sample text\n",
        "sample_text_1 = \"Hello123\"\n",
        "sample_text_2 = \"Hello123!\"\n",
        "sample_text_3 = \"Hello_\""
      ]
    },
    {
      "cell_type": "code",
      "execution_count": null,
      "id": "3e56e270-6588-455d-af30-2fbbf10ecf9f",
      "metadata": {
        "id": "3e56e270-6588-455d-af30-2fbbf10ecf9f",
        "outputId": "cbd3cd29-11f1-4457-f757-28441c1f4d62"
      },
      "outputs": [
        {
          "name": "stdout",
          "output_type": "stream",
          "text": [
            "True\n",
            "False\n",
            "True\n"
          ]
        }
      ],
      "source": [
        "# Print Output\n",
        "print(ends_with_alphanumeric(sample_text_1))\n",
        "print(ends_with_alphanumeric(sample_text_2))\n",
        "print(ends_with_alphanumeric(sample_text_3))"
      ]
    },
    {
      "cell_type": "code",
      "execution_count": null,
      "id": "769eeb56-bee1-43b0-89a3-652e485ac9a1",
      "metadata": {
        "id": "769eeb56-bee1-43b0-89a3-652e485ac9a1"
      },
      "outputs": [],
      "source": [
        "# 27\n",
        "def extract_hashtags(text):\n",
        "    # Regex pattern to match hashtags\n",
        "    pattern = r'#\\w+'\n",
        "    # Find all hashtags in the text\n",
        "    hashtags = re.findall(pattern, text)\n",
        "    return hashtags"
      ]
    },
    {
      "cell_type": "code",
      "execution_count": null,
      "id": "2604b378-2019-4854-bc57-e2b02cf17957",
      "metadata": {
        "id": "2604b378-2019-4854-bc57-e2b02cf17957"
      },
      "outputs": [],
      "source": [
        "# Sample text\n",
        "sample_text = \"\"\"RT @kapil_kausik: #Doltiwal I mean #xyzabc is \"hurt\" by #Demonetization as the same has rendered USELESS <ed><U+00A0><U+00BD><ed><U+00B1><U+0089> \"acquired funds\" No wo\"\"\""
      ]
    },
    {
      "cell_type": "code",
      "execution_count": null,
      "id": "bd46d295-cc89-4870-8764-1673f2dc5df1",
      "metadata": {
        "id": "bd46d295-cc89-4870-8764-1673f2dc5df1",
        "outputId": "82d2b43e-5406-45f8-e4fe-1e47e06529a0"
      },
      "outputs": [
        {
          "name": "stdout",
          "output_type": "stream",
          "text": [
            "['#Doltiwal', '#xyzabc', '#Demonetization']\n"
          ]
        }
      ],
      "source": [
        "# Output\n",
        "output = extract_hashtags(sample_text)\n",
        "print(output)"
      ]
    },
    {
      "cell_type": "code",
      "execution_count": null,
      "id": "03e8c3b1-bc0a-415f-9a33-73dda31a6a71",
      "metadata": {
        "id": "03e8c3b1-bc0a-415f-9a33-73dda31a6a71"
      },
      "outputs": [],
      "source": [
        "# 28\n",
        "def remove_unwanted_symbols(text):\n",
        "    # Regular expression to match the pattern <U+..>\n",
        "    pattern = r'<U\\+[A-F0-9]{4}>'\n",
        "    # Replace the matched patterns with an empty string\n",
        "    cleaned_text = re.sub(pattern, '', text)\n",
        "    return cleaned_text"
      ]
    },
    {
      "cell_type": "code",
      "execution_count": null,
      "id": "a199e2bc-6476-48e6-b0fc-7d893e8cbf5a",
      "metadata": {
        "id": "a199e2bc-6476-48e6-b0fc-7d893e8cbf5a"
      },
      "outputs": [],
      "source": [
        "# Sample text\n",
        "sample_text = \"@Jags123456 Bharat band on 28??<ed><U+00A0><U+00BD><ed><U+00B8><U+0082>Those who are protesting #demonetization are all different party leaders\""
      ]
    },
    {
      "cell_type": "code",
      "execution_count": null,
      "id": "bbc03af4-e840-4363-aecd-62b864b082a7",
      "metadata": {
        "id": "bbc03af4-e840-4363-aecd-62b864b082a7",
        "outputId": "3257cd9c-57c2-4f25-f946-1cf2d0f03d35"
      },
      "outputs": [
        {
          "name": "stdout",
          "output_type": "stream",
          "text": [
            "@Jags123456 Bharat band on 28??<ed><ed>Those who are protesting #demonetization are all different party leaders\n"
          ]
        }
      ],
      "source": [
        "# Removing <U+..> symbols\n",
        "result = remove_unwanted_symbols(sample_text)\n",
        "print(result)"
      ]
    },
    {
      "cell_type": "code",
      "execution_count": null,
      "id": "8d1ca708-cfa3-4f2f-adfa-c866a6e83e9e",
      "metadata": {
        "id": "8d1ca708-cfa3-4f2f-adfa-c866a6e83e9e"
      },
      "outputs": [],
      "source": [
        "# 29\n",
        "def extract_dates(file_path):\n",
        "    # Read the content of the text file\n",
        "    with open(file_path, 'r') as file:\n",
        "        content = file.read()\n",
        "    # Regular expression pattern to match dates in the format dd-mm-yyyy\n",
        "    date_pattern = re.compile(r'\\b\\d{2}-\\d{2}-\\d{4}\\b')\n",
        "    # Find all dates that match the pattern\n",
        "    dates = date_pattern.findall(content)\n",
        "    return dates"
      ]
    },
    {
      "cell_type": "code",
      "execution_count": null,
      "id": "ca6a2ddb-ddc9-42e2-90da-4a46bbdb1a04",
      "metadata": {
        "id": "ca6a2ddb-ddc9-42e2-90da-4a46bbdb1a04"
      },
      "outputs": [],
      "source": [
        "# Specify the path file\n",
        "file_path = r\"C:\\Users\\user\\Desktop\\samplefile.txt\""
      ]
    },
    {
      "cell_type": "code",
      "execution_count": null,
      "id": "bd434c18-51ec-477c-91a1-e0ef2aecde20",
      "metadata": {
        "id": "bd434c18-51ec-477c-91a1-e0ef2aecde20"
      },
      "outputs": [],
      "source": [
        "# Call the function to extract dates\n",
        "extracted_dates = extract_dates(file_path)"
      ]
    },
    {
      "cell_type": "code",
      "execution_count": null,
      "id": "df356ce0-456d-42df-b85a-5a2cad039e46",
      "metadata": {
        "id": "df356ce0-456d-42df-b85a-5a2cad039e46",
        "outputId": "342e2c73-1b49-4f81-ce12-3ff923291980"
      },
      "outputs": [
        {
          "name": "stdout",
          "output_type": "stream",
          "text": [
            "['12-09-1992', '15-12-1999']\n"
          ]
        }
      ],
      "source": [
        "# Print the extracted dates\n",
        "print(extracted_dates)"
      ]
    },
    {
      "cell_type": "code",
      "execution_count": null,
      "id": "27cfbec3-716e-4238-a9b0-cbdd57dbfb3c",
      "metadata": {
        "id": "27cfbec3-716e-4238-a9b0-cbdd57dbfb3c"
      },
      "outputs": [],
      "source": [
        "# 30\n",
        "def remove_short_words(text):\n",
        "    # Regex pattern to match words of length 2 to 4\n",
        "    pattern = re.compile(r'\\b\\w{2,4}\\b')\n",
        "    # Replace the matched words with an empty string\n",
        "    result = pattern.sub('', text)\n",
        "    # Remove any extra spaces that might be left after removing words\n",
        "    cleaned_text = re.sub(r'\\s{2,}', ' ', result).strip()\n",
        "    return cleaned_text"
      ]
    },
    {
      "cell_type": "code",
      "execution_count": null,
      "id": "912b9aad-d92f-41e5-8bc8-cb07924054ef",
      "metadata": {
        "id": "912b9aad-d92f-41e5-8bc8-cb07924054ef"
      },
      "outputs": [],
      "source": [
        "# Sample text\n",
        "sample_text = \"The following example creates an ArrayList with a capacity of 50 elements. 4 elements are then added to the ArrayList and the ArrayList is trimmed accordingly.\""
      ]
    },
    {
      "cell_type": "code",
      "execution_count": null,
      "id": "5ec7261b-19f5-4439-9bad-698ddfd3a292",
      "metadata": {
        "id": "5ec7261b-19f5-4439-9bad-698ddfd3a292",
        "outputId": "4b44bc88-f237-4c2a-b545-931972d1f4fb"
      },
      "outputs": [
        {
          "name": "stdout",
          "output_type": "stream",
          "text": [
            "following example creates ArrayList a capacity elements. 4 elements added ArrayList ArrayList trimmed accordingly.\n"
          ]
        }
      ],
      "source": [
        "# Call the function and print the result\n",
        "output = remove_short_words(sample_text)\n",
        "print(output)"
      ]
    },
    {
      "cell_type": "code",
      "execution_count": null,
      "id": "daedf606-aa20-4326-9914-6d9f9a1ba8fd",
      "metadata": {
        "id": "daedf606-aa20-4326-9914-6d9f9a1ba8fd"
      },
      "outputs": [],
      "source": []
    }
  ],
  "metadata": {
    "kernelspec": {
      "display_name": "Python 3 (ipykernel)",
      "language": "python",
      "name": "python3"
    },
    "language_info": {
      "codemirror_mode": {
        "name": "ipython",
        "version": 3
      },
      "file_extension": ".py",
      "mimetype": "text/x-python",
      "name": "python",
      "nbconvert_exporter": "python",
      "pygments_lexer": "ipython3",
      "version": "3.11.7"
    },
    "colab": {
      "provenance": [],
      "include_colab_link": true
    }
  },
  "nbformat": 4,
  "nbformat_minor": 5
}