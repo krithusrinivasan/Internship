{
 "cells": [
  {
   "cell_type": "code",
   "execution_count": 11,
   "id": "09586238-10ea-4c59-adf1-78c434268875",
   "metadata": {},
   "outputs": [],
   "source": [
    "import numpy as np\n",
    "import math"
   ]
  },
  {
   "cell_type": "code",
   "execution_count": 3,
   "id": "2805d368-ad7c-49b3-9233-032036136057",
   "metadata": {},
   "outputs": [],
   "source": [
    "def factorial(n): #1\n",
    "    if n == 0:\n",
    "        return 1\n",
    "    else:\n",
    "        return n * factorial(n-1)"
   ]
  },
  {
   "cell_type": "code",
   "execution_count": 4,
   "id": "622c1a56-d680-4f1b-b70b-c0a835fc4eb5",
   "metadata": {},
   "outputs": [
    {
     "name": "stdout",
     "output_type": "stream",
     "text": [
      "120\n"
     ]
    }
   ],
   "source": [
    "print(factorial(5))"
   ]
  },
  {
   "cell_type": "code",
   "execution_count": 5,
   "id": "48e7db53-b4ff-41c8-b8a3-4982d8702e9f",
   "metadata": {},
   "outputs": [],
   "source": [
    "def is_prime(n): #2\n",
    "    if n <= 1:\n",
    "        return \"Neither prime nor composite\"\n",
    "    for i in range(2, int(n**0.5) + 1):\n",
    "        if n % i == 0:\n",
    "            return \"Composite\"\n",
    "    return \"Prime\""
   ]
  },
  {
   "cell_type": "code",
   "execution_count": 6,
   "id": "028f26e1-e7da-40eb-b865-f8d1370a3319",
   "metadata": {},
   "outputs": [
    {
     "name": "stdout",
     "output_type": "stream",
     "text": [
      "Prime\n"
     ]
    }
   ],
   "source": [
    "print(is_prime(7))"
   ]
  },
  {
   "cell_type": "code",
   "execution_count": 7,
   "id": "7f81455e-e790-4d6b-bfd6-932c11794ce0",
   "metadata": {},
   "outputs": [],
   "source": [
    "def is_palindrome(s): #3\n",
    "    return s == s[::-1]"
   ]
  },
  {
   "cell_type": "code",
   "execution_count": 8,
   "id": "68bc445c-d65d-40df-ae84-3ab910d45a1a",
   "metadata": {},
   "outputs": [
    {
     "name": "stdout",
     "output_type": "stream",
     "text": [
      "True\n"
     ]
    }
   ],
   "source": [
    "print(is_palindrome(\"radar\"))"
   ]
  },
  {
   "cell_type": "code",
   "execution_count": 12,
   "id": "f6e14197-f039-4ea0-99d1-5d7fd75e0b95",
   "metadata": {},
   "outputs": [],
   "source": [
    "def find_third_side(a, b): #4\n",
    "    return math.sqrt(a**2 + b**2)"
   ]
  },
  {
   "cell_type": "code",
   "execution_count": 13,
   "id": "b926b303-3548-4de7-bb04-335127e15b08",
   "metadata": {},
   "outputs": [
    {
     "name": "stdout",
     "output_type": "stream",
     "text": [
      "5.0\n"
     ]
    }
   ],
   "source": [
    "print(find_third_side(3, 4))"
   ]
  },
  {
   "cell_type": "code",
   "execution_count": 14,
   "id": "a84d5e9a-6649-4138-9bc6-b8d809e3efad",
   "metadata": {},
   "outputs": [],
   "source": [
    "def char_frequency(s): #5\n",
    "    freq = {}\n",
    "    for char in s:\n",
    "        if char in freq:\n",
    "            freq[char] += 1\n",
    "        else:\n",
    "            freq[char] = 1\n",
    "    return freq"
   ]
  },
  {
   "cell_type": "code",
   "execution_count": 15,
   "id": "e652fc54-4ac8-4fbc-8c8d-836411fa2ecf",
   "metadata": {},
   "outputs": [
    {
     "name": "stdout",
     "output_type": "stream",
     "text": [
      "{'h': 1, 'e': 1, 'l': 2, 'o': 1}\n"
     ]
    }
   ],
   "source": [
    "print(char_frequency(\"hell\"))"
   ]
  },
  {
   "cell_type": "code",
   "execution_count": null,
   "id": "132b406d-a616-4b9c-9187-7e8e5ac2c20d",
   "metadata": {},
   "outputs": [],
   "source": []
  }
 ],
 "metadata": {
  "kernelspec": {
   "display_name": "Python 3 (ipykernel)",
   "language": "python",
   "name": "python3"
  },
  "language_info": {
   "codemirror_mode": {
    "name": "ipython",
    "version": 3
   },
   "file_extension": ".py",
   "mimetype": "text/x-python",
   "name": "python",
   "nbconvert_exporter": "python",
   "pygments_lexer": "ipython3",
   "version": "3.11.7"
  }
 },
 "nbformat": 4,
 "nbformat_minor": 5
}
