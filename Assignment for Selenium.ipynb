{
 "cells": [
  {
   "cell_type": "code",
   "execution_count": 1,
   "id": "fb2a8b28-e660-44e7-a397-752ec44c3eaa",
   "metadata": {},
   "outputs": [
    {
     "name": "stdout",
     "output_type": "stream",
     "text": [
      "Requirement already satisfied: selenium in c:\\users\\user\\anaconda3\\lib\\site-packages (4.24.0)\n",
      "Requirement already satisfied: urllib3<3,>=1.26 in c:\\users\\user\\anaconda3\\lib\\site-packages (from urllib3[socks]<3,>=1.26->selenium) (2.0.7)\n",
      "Requirement already satisfied: trio~=0.17 in c:\\users\\user\\anaconda3\\lib\\site-packages (from selenium) (0.26.2)\n",
      "Requirement already satisfied: trio-websocket~=0.9 in c:\\users\\user\\anaconda3\\lib\\site-packages (from selenium) (0.11.1)\n",
      "Requirement already satisfied: certifi>=2021.10.8 in c:\\users\\user\\anaconda3\\lib\\site-packages (from selenium) (2024.7.4)\n",
      "Requirement already satisfied: typing_extensions~=4.9 in c:\\users\\user\\anaconda3\\lib\\site-packages (from selenium) (4.9.0)\n",
      "Requirement already satisfied: websocket-client~=1.8 in c:\\users\\user\\anaconda3\\lib\\site-packages (from selenium) (1.8.0)\n",
      "Requirement already satisfied: attrs>=23.2.0 in c:\\users\\user\\anaconda3\\lib\\site-packages (from trio~=0.17->selenium) (24.2.0)\n",
      "Requirement already satisfied: sortedcontainers in c:\\users\\user\\anaconda3\\lib\\site-packages (from trio~=0.17->selenium) (2.4.0)\n",
      "Requirement already satisfied: idna in c:\\users\\user\\anaconda3\\lib\\site-packages (from trio~=0.17->selenium) (3.4)\n",
      "Requirement already satisfied: outcome in c:\\users\\user\\anaconda3\\lib\\site-packages (from trio~=0.17->selenium) (1.3.0.post0)\n",
      "Requirement already satisfied: sniffio>=1.3.0 in c:\\users\\user\\anaconda3\\lib\\site-packages (from trio~=0.17->selenium) (1.3.0)\n",
      "Requirement already satisfied: cffi>=1.14 in c:\\users\\user\\anaconda3\\lib\\site-packages (from trio~=0.17->selenium) (1.16.0)\n",
      "Requirement already satisfied: wsproto>=0.14 in c:\\users\\user\\anaconda3\\lib\\site-packages (from trio-websocket~=0.9->selenium) (1.2.0)\n",
      "Requirement already satisfied: pysocks!=1.5.7,<2.0,>=1.5.6 in c:\\users\\user\\anaconda3\\lib\\site-packages (from urllib3[socks]<3,>=1.26->selenium) (1.7.1)\n",
      "Requirement already satisfied: pycparser in c:\\users\\user\\anaconda3\\lib\\site-packages (from cffi>=1.14->trio~=0.17->selenium) (2.21)\n",
      "Requirement already satisfied: h11<1,>=0.9.0 in c:\\users\\user\\anaconda3\\lib\\site-packages (from wsproto>=0.14->trio-websocket~=0.9->selenium) (0.14.0)\n"
     ]
    }
   ],
   "source": [
    "! pip install selenium"
   ]
  },
  {
   "cell_type": "code",
   "execution_count": 3,
   "id": "3ccda197-268a-414e-9821-83919c999c69",
   "metadata": {},
   "outputs": [],
   "source": [
    "import selenium\n",
    "import pandas as pd\n",
    "from selenium import webdriver\n",
    "import warnings\n",
    "warnings.filterwarnings('ignore')\n",
    "from selenium.webdriver.common.by import By\n",
    "import time\n"
   ]
  },
  {
   "cell_type": "code",
   "execution_count": 5,
   "id": "e0260d79-46c8-41f4-901e-f5a3a93ba841",
   "metadata": {},
   "outputs": [],
   "source": [
    "# Setup chrome webdriver\n",
    "driver = webdriver.Chrome()\n"
   ]
  },
  {
   "cell_type": "code",
   "execution_count": 9,
   "id": "6ae88e8c-3a83-44ee-8bb2-5269a34285f2",
   "metadata": {},
   "outputs": [],
   "source": [
    "# No 1\n",
    "# Opening the naukri page on automated chrome browser\n",
    "driver.get(\"http://www.naukri.com/\")\n",
    "time.sleep(2)"
   ]
  },
  {
   "cell_type": "code",
   "execution_count": 13,
   "id": "cdf2fe03-f163-42da-a86f-59bdbaf83e17",
   "metadata": {},
   "outputs": [],
   "source": [
    "# Entering designation as required in the question\n",
    "designation = driver.find_element(By.XPATH, '//input[@class=\"suggestor-input \"]')\n",
    "designation.send_keys('Data Scientist')\n",
    "time.sleep(2)"
   ]
  },
  {
   "cell_type": "code",
   "execution_count": 19,
   "id": "831ba222-598b-446b-aeeb-4aaff1619e5f",
   "metadata": {},
   "outputs": [],
   "source": [
    "# CLicking the search button \n",
    "search = driver.find_element(By.XPATH, '//div[@class=\"qsbSubmit\"]')\n",
    "search.click()"
   ]
  },
  {
   "cell_type": "code",
   "execution_count": 21,
   "id": "47c22f69-4bdc-4c90-bdff-8063f0efa1cb",
   "metadata": {},
   "outputs": [],
   "source": [
    "# Selecting location filter by checking the respective check boxes\n",
    "location_filter = driver.find_element(By.XPATH, '//span[@title=\"Delhi / NCR\"]')\n",
    "location_filter.click() "
   ]
  },
  {
   "cell_type": "code",
   "execution_count": 23,
   "id": "daea9d18-5d07-4ac5-910e-02ef8ba7cbd5",
   "metadata": {},
   "outputs": [],
   "source": [
    "# Selecting salary filter by checking the rspective check boxes\n",
    "salary_filter = driver.find_element(By.XPATH, '//span[@title=\"3-6 Lakhs\"]')\n",
    "salary_filter.click() "
   ]
  },
  {
   "cell_type": "code",
   "execution_count": 25,
   "id": "d67f82c0-ce41-4548-9f9e-6b3c854ed6bb",
   "metadata": {},
   "outputs": [],
   "source": [
    "# Scrape the data for the first ten results\n",
    "job_title=[]\n",
    "job_location=[]\n",
    "company_name=[]\n",
    "experience_required=[]"
   ]
  },
  {
   "cell_type": "code",
   "execution_count": 27,
   "id": "549cb457-13d9-4461-81d2-09eb3bdfaf2d",
   "metadata": {},
   "outputs": [],
   "source": [
    "#Scraping job title from the given page\n",
    "title_tags=driver.find_elements(By.XPATH,'//a[@class=\"title \"]')\n",
    "for i in title_tags:\n",
    "    title=i.text\n",
    "    job_title.append(title)"
   ]
  },
  {
   "cell_type": "code",
   "execution_count": 29,
   "id": "540fad20-e557-4da1-b2e2-f5ab8b9e8470",
   "metadata": {},
   "outputs": [],
   "source": [
    "#Scraping job location from the given page\n",
    "location_tags=driver.find_elements(By.XPATH,'//span[@class=\"locWdth\"]')\n",
    "for i in location_tags:\n",
    "    location=i.text\n",
    "    job_location.append(location)"
   ]
  },
  {
   "cell_type": "code",
   "execution_count": 39,
   "id": "7a5f9f8e-5310-4f9e-9cb5-463deded3c2a",
   "metadata": {},
   "outputs": [],
   "source": [
    "# Scraping company name from the given page\n",
    "company_tags=driver.find_elements(By.XPATH,'//a[@class=\" comp-name mw-25\"]')\n",
    "for i in company_tags:\n",
    "    company=i.text\n",
    "    company_name.append(company)"
   ]
  },
  {
   "cell_type": "code",
   "execution_count": 41,
   "id": "356586ea-b521-4b12-a2cb-b0565f99c8ee",
   "metadata": {},
   "outputs": [],
   "source": [
    "# Scraping experience required from the given page\n",
    "experience_tags=driver.find_elements(By.XPATH,'//span[@class=\"expwdth\"]')\n",
    "for i in experience_tags:\n",
    "    experience=i.text\n",
    "    experience_required.append(experience)"
   ]
  },
  {
   "cell_type": "code",
   "execution_count": 43,
   "id": "5713778b-8dc8-4612-b1a8-96430b56137d",
   "metadata": {},
   "outputs": [
    {
     "name": "stdout",
     "output_type": "stream",
     "text": [
      "25 20 13 20\n"
     ]
    }
   ],
   "source": [
    "print(len(job_title),len(job_location),len(company_name), len(experience_required))"
   ]
  },
  {
   "cell_type": "code",
   "execution_count": 59,
   "id": "cb2edcdd-b13e-4d91-ab6a-b92f70c7ba0d",
   "metadata": {},
   "outputs": [],
   "source": [
    "# List to store the data\n",
    "job_data=[]\n",
    "# Loop through the first 10 jobs\n",
    "for i in range(10):\n",
    "    job_title = title_tags[i].text if i < len(title_tags) else \"N/A\"\n",
    "    job_location = location_tags[i].text if i < len(location_tags) else \"N/A\"\n",
    "    company_name = company_tags[i].text if i < len(company_tags) else \"N/A\"\n",
    "    experience_required = experience_tags[i].text if i < len(experience_tags) else \"N/A\"\n",
    "# append data for each job  \n",
    "    job_data.append({\n",
    "        'Job Title': job_title,\n",
    "        'Location': job_location,\n",
    "        'Company Name': company_name,\n",
    "        'Experience': experience_required\n",
    "    })"
   ]
  },
  {
   "cell_type": "code",
   "execution_count": 61,
   "id": "3e87d185-c887-4b55-bfe0-bd76bf44975c",
   "metadata": {},
   "outputs": [
    {
     "name": "stdout",
     "output_type": "stream",
     "text": [
      "{'Job Title': 'Data Scientist', 'Location': 'Kolkata, Mumbai, New Delhi, Hyderabad, Pune, Chennai, Bengaluru', 'Company Name': 'Nityo Infotech', 'Experience': '3-7 Yrs'}\n",
      "{'Job Title': 'Data Scientist (AI/ML)|| US Based MNC || Noida', 'Location': 'Hybrid - Noida', 'Company Name': 'Collegedunia', 'Experience': '3-5 Yrs'}\n",
      "{'Job Title': 'Data Scientist', 'Location': 'Gurugram', 'Company Name': 'Growthjockey', 'Experience': '0-2 Yrs'}\n",
      "{'Job Title': 'Data Analyst', 'Location': 'New Delhi', 'Company Name': 'Biz Tech Consultants', 'Experience': '0-5 Yrs'}\n",
      "{'Job Title': 'Data Scientist', 'Location': 'Gurugram', 'Company Name': 'Biz Tech Consultants', 'Experience': '0-1 Yrs'}\n",
      "{'Job Title': '', 'Location': 'Kolkata, Mumbai, New Delhi, Hyderabad, Pune, Chennai, Bengaluru', 'Company Name': 'Biz Tech Consultants', 'Experience': '2-6 Yrs'}\n",
      "{'Job Title': '', 'Location': 'Gurugram', 'Company Name': 'PayU', 'Experience': '3-8 Yrs'}\n",
      "{'Job Title': '', 'Location': 'Ghaziabad', 'Company Name': 'Innovaccer', 'Experience': '3-8 Yrs'}\n",
      "{'Job Title': 'Data Scientist', 'Location': 'Noida', 'Company Name': 'IBM', 'Experience': '3-8 Yrs'}\n",
      "{'Job Title': 'Data scientist', 'Location': 'Gurugram, Bengaluru', 'Company Name': 'Times Internet', 'Experience': '2-7 Yrs'}\n"
     ]
    }
   ],
   "source": [
    "# Output the scraped data\n",
    "for job in job_data:\n",
    "    print(job)"
   ]
  },
  {
   "cell_type": "code",
   "execution_count": 63,
   "id": "01de82d5-96c6-4fb2-8fa9-c212b7f3c6de",
   "metadata": {},
   "outputs": [
    {
     "name": "stdout",
     "output_type": "stream",
     "text": [
      "                                        Job Title  \\\n",
      "0                                  Data Scientist   \n",
      "1  Data Scientist (AI/ML)|| US Based MNC || Noida   \n",
      "2                                  Data Scientist   \n",
      "3                                    Data Analyst   \n",
      "4                                  Data Scientist   \n",
      "5                                                   \n",
      "6                                                   \n",
      "7                                                   \n",
      "8                                  Data Scientist   \n",
      "9                                  Data scientist   \n",
      "\n",
      "                                            Location          Company Name  \\\n",
      "0  Kolkata, Mumbai, New Delhi, Hyderabad, Pune, C...        Nityo Infotech   \n",
      "1                                     Hybrid - Noida          Collegedunia   \n",
      "2                                           Gurugram          Growthjockey   \n",
      "3                                          New Delhi  Biz Tech Consultants   \n",
      "4                                           Gurugram  Biz Tech Consultants   \n",
      "5  Kolkata, Mumbai, New Delhi, Hyderabad, Pune, C...  Biz Tech Consultants   \n",
      "6                                           Gurugram                  PayU   \n",
      "7                                          Ghaziabad            Innovaccer   \n",
      "8                                              Noida                   IBM   \n",
      "9                                Gurugram, Bengaluru        Times Internet   \n",
      "\n",
      "  Experience  \n",
      "0    3-7 Yrs  \n",
      "1    3-5 Yrs  \n",
      "2    0-2 Yrs  \n",
      "3    0-5 Yrs  \n",
      "4    0-1 Yrs  \n",
      "5    2-6 Yrs  \n",
      "6    3-8 Yrs  \n",
      "7    3-8 Yrs  \n",
      "8    3-8 Yrs  \n",
      "9    2-7 Yrs  \n"
     ]
    }
   ],
   "source": [
    "# Create Data frame\n",
    "df = pd.DataFrame(job_data)\n",
    "\n",
    "print(df)"
   ]
  },
  {
   "cell_type": "code",
   "execution_count": 89,
   "id": "82ccca53-e999-4e74-a98e-bd22068c9d89",
   "metadata": {},
   "outputs": [],
   "source": [
    "# No 2\n",
    "# Setup chrome webdriver\n",
    "driver = webdriver.Chrome()"
   ]
  },
  {
   "cell_type": "code",
   "execution_count": 91,
   "id": "520301e7-072e-4077-a9ca-dc85e8627c6d",
   "metadata": {},
   "outputs": [],
   "source": [
    "# Opening the shine page on automated chrome browser\n",
    "driver.get(\"http://www.shine.com/\")\n",
    "time.sleep(2)"
   ]
  },
  {
   "cell_type": "code",
   "execution_count": 97,
   "id": "124b4a06-64b4-4022-a704-b4c53a1d78d3",
   "metadata": {},
   "outputs": [],
   "source": [
    "# Entering designation as required in the question\n",
    "designation = driver.find_element(By.XPATH, '//input[@class=\"form-control  \"]')\n",
    "designation.send_keys('Data Analyst')\n",
    "time.sleep(2)"
   ]
  },
  {
   "cell_type": "code",
   "execution_count": 99,
   "id": "c0cdab48-3398-4d3c-b22f-5f64e105be71",
   "metadata": {},
   "outputs": [],
   "source": [
    "# Entering location as required in the question\n",
    "location= driver.find_element(By.XPATH, '//input[@id=\"id_loc\"]')\n",
    "location.send_keys('Bangalore')"
   ]
  },
  {
   "cell_type": "code",
   "execution_count": 101,
   "id": "020ad3ce-414e-4744-9d8f-80115977300a",
   "metadata": {},
   "outputs": [],
   "source": [
    "# CLicking the search button \n",
    "search = driver.find_element(By.XPATH, '//div[@class=\"searchForm_btnWrap_advance__VYBHN\"]')\n",
    "search.click()"
   ]
  },
  {
   "cell_type": "code",
   "execution_count": 103,
   "id": "052efa43-f9d9-4e73-92bf-0bab3431ec7e",
   "metadata": {},
   "outputs": [],
   "source": [
    "# Scrape the data for the first ten results\n",
    "job_title=[]\n",
    "job_location=[]\n",
    "company_name=[]\n",
    "experience_required=[]"
   ]
  },
  {
   "cell_type": "code",
   "execution_count": 105,
   "id": "3a42743d-193d-4eb3-8ec5-597eb78c7999",
   "metadata": {},
   "outputs": [],
   "source": [
    "#Scraping job title from the given page\n",
    "title_tags=driver.find_elements(By.XPATH,'//a[contains(@href, \"/jobs/\")]')\n",
    "for i in title_tags:\n",
    "    title=i.text\n",
    "    job_title.append(title)"
   ]
  },
  {
   "cell_type": "code",
   "execution_count": 107,
   "id": "36b9c800-089c-45b6-963c-424146dfc619",
   "metadata": {},
   "outputs": [],
   "source": [
    "#Scraping job location from the given page\n",
    "location_tags=driver.find_elements(By.XPATH,'//class[@class=\"jobCard_jobCard_lists_item__YxRkV jobCard_locationIcon__zrWt2\"]')\n",
    "for i in location_tags:\n",
    "    location=i.text\n",
    "    job_location.append(location)"
   ]
  },
  {
   "cell_type": "code",
   "execution_count": 109,
   "id": "a6e1ca98-ea98-4670-987c-96885a3bbee9",
   "metadata": {},
   "outputs": [],
   "source": [
    "# Scraping company name from the given page\n",
    "company_tags=driver.find_elements(By.XPATH,'//class[@class=\"jobCard_jobCard_cName__mYnow\"]')\n",
    "for i in company_tags:\n",
    "    company=i.text\n",
    "    company_name.append(company)"
   ]
  },
  {
   "cell_type": "code",
   "execution_count": 111,
   "id": "41ec4d24-6072-48a1-ba9e-297e7da6bfc8",
   "metadata": {},
   "outputs": [],
   "source": [
    "# Scraping experience required from the given page\n",
    "experience_tags=driver.find_elements(By.XPATH,'//div[@class=\" jobCard_jobCard_lists_item__YxRkV jobCard_jobIcon__3FB1t\"]')\n",
    "for i in experience_tags:\n",
    "    experience=i.text\n",
    "    experience_required.append(experience)"
   ]
  },
  {
   "cell_type": "code",
   "execution_count": 113,
   "id": "c72c716e-8b65-436e-a794-3fda82a23101",
   "metadata": {},
   "outputs": [],
   "source": [
    "# List to store the data\n",
    "job_data=[]\n",
    "# Loop through the first 10 jobs\n",
    "for i in range(10):\n",
    "    job_title = title_tags[i].text if i < len(title_tags) else \"N/A\"\n",
    "    job_location = location_tags[i].text if i < len(location_tags) else \"N/A\"\n",
    "    company_name = company_tags[i].text if i < len(company_tags) else \"N/A\"\n",
    "    experience_required = experience_tags[i].text if i < len(experience_tags) else \"N/A\"\n",
    "# append data for each job  \n",
    "    job_data.append({\n",
    "        'Job Title': job_title,\n",
    "        'Location': job_location,\n",
    "        'Company Name': company_name,\n",
    "        'Experience': experience_required\n",
    "    })"
   ]
  },
  {
   "cell_type": "code",
   "execution_count": 115,
   "id": "32c57a3b-66ff-4cac-801a-ac915b6b07dd",
   "metadata": {},
   "outputs": [
    {
     "name": "stdout",
     "output_type": "stream",
     "text": [
      "{'Job Title': '', 'Location': 'N/A', 'Company Name': 'N/A', 'Experience': '0 to 4 Yrs'}\n",
      "{'Job Title': '', 'Location': 'N/A', 'Company Name': 'N/A', 'Experience': '0 to 4 Yrs'}\n",
      "{'Job Title': 'Data Analyst , Senior Data Analyst , Data Analyst - Tec ...', 'Location': 'N/A', 'Company Name': 'N/A', 'Experience': '4 to 9 Yrs'}\n",
      "{'Job Title': 'Data Analyst', 'Location': 'N/A', 'Company Name': 'N/A', 'Experience': '8 to 13 Yrs'}\n",
      "{'Job Title': 'Risk Data Analyst (Senior Quantitative Analyst)', 'Location': 'N/A', 'Company Name': 'N/A', 'Experience': '2 to 7 Yrs'}\n",
      "{'Job Title': 'Healthcare Data Analyst', 'Location': 'N/A', 'Company Name': 'N/A', 'Experience': '0 to 4 Yrs'}\n",
      "{'Job Title': 'Senior Data Analyst', 'Location': 'N/A', 'Company Name': 'N/A', 'Experience': '6 to 11 Yrs'}\n",
      "{'Job Title': 'Urgent Hiring For Data Analyst', 'Location': 'N/A', 'Company Name': 'N/A', 'Experience': '5 to 8 Yrs'}\n",
      "{'Job Title': 'Data Catalog with Data Goverance', 'Location': 'N/A', 'Company Name': 'N/A', 'Experience': '0 to 4 Yrs'}\n",
      "{'Job Title': 'Data Governance Analyst', 'Location': 'N/A', 'Company Name': 'N/A', 'Experience': '5 to 10 Yrs'}\n"
     ]
    }
   ],
   "source": [
    "# Output the scraped data\n",
    "for job in job_data:\n",
    "    print(job)"
   ]
  },
  {
   "cell_type": "code",
   "execution_count": 117,
   "id": "d05a4d01-7846-4c76-8190-150a6ca4521c",
   "metadata": {},
   "outputs": [],
   "source": [
    "# No 3\n",
    "# Setup chrome webdriver\n",
    "driver = webdriver.Chrome()"
   ]
  },
  {
   "cell_type": "code",
   "execution_count": 119,
   "id": "b893acdf-b0fc-42aa-817d-8348da01b917",
   "metadata": {},
   "outputs": [],
   "source": [
    "# Opening the flipkart page on automated chrome browser\n",
    "driver.get(\"https://www.flipkart.com/apple-iphone-11-black-64-gb/product-reviews/itm4e5041ba101fd?pid=MOBFWQ6BXGJCEYNY&lid=LSTMOBFWQ6BXGJCEYNYZXSHRJ&marketplace=F\")\n",
    "time.sleep(2)"
   ]
  },
  {
   "cell_type": "code",
   "execution_count": 123,
   "id": "b670c7c4-d6cf-431c-9e60-939d7a67c0be",
   "metadata": {},
   "outputs": [],
   "source": [
    "# Scrape the data for the first 100 reviews\n",
    "rating=[]\n",
    "review_summary=[]\n",
    "full_review=[]"
   ]
  },
  {
   "cell_type": "code",
   "execution_count": 125,
   "id": "fd1b7a6d-e00b-42d3-938e-9317ea2bf090",
   "metadata": {},
   "outputs": [],
   "source": [
    "#Scraping rating from the given page\n",
    "rating_tags=driver.find_elements(By.XPATH,'//div[@class=\"XQDdHH Ga3i8K\"]')\n",
    "for i in rating_tags:\n",
    "    ratings=i.text\n",
    "    rating.append(ratings)"
   ]
  },
  {
   "cell_type": "code",
   "execution_count": 127,
   "id": "605fae12-19d2-4bb3-bad9-625ad5390918",
   "metadata": {},
   "outputs": [],
   "source": [
    "#Scraping review from the given page\n",
    "review_tags=driver.find_elements(By.XPATH,'//p[@class=\"z9E0IG\"]')\n",
    "for i in review_tags:\n",
    "    review=i.text\n",
    "    review_summary.append(review)"
   ]
  },
  {
   "cell_type": "code",
   "execution_count": 133,
   "id": "80144edb-9170-4bdc-8dd0-61d69254f918",
   "metadata": {},
   "outputs": [],
   "source": [
    "#Scraping full review from the given page\n",
    "full_review_tags=driver.find_elements(By.XPATH,'//div[@class=\"ZmyHeo\"]')\n",
    "for i in full_review_tags:\n",
    "    full_reviews=i.text\n",
    "    full_review.append(full_reviews)"
   ]
  },
  {
   "cell_type": "code",
   "execution_count": 139,
   "id": "099172c4-b87a-4e59-8d21-8700e88a4b44",
   "metadata": {},
   "outputs": [],
   "source": [
    "# List to store the data\n",
    "review_data=[]\n",
    "# Loop through the first 100 review\n",
    "for i in range(100):\n",
    "    rating = rating_tags[i].text if i < len(rating_tags) else \"N/A\"\n",
    "    review_summary = review_tags[i].text if i < len(review_tags) else \"N/A\"\n",
    "    full_review = full_review_tags[i].text if i < len(full_review_tags) else \"N/A\"\n",
    "    \n",
    "# append data for each review \n",
    "    review_data.append({\n",
    "        'Rating': rating,\n",
    "        'Review Summary': review_summary,\n",
    "        'Full Review': full_review,\n",
    "    })"
   ]
  },
  {
   "cell_type": "code",
   "execution_count": 141,
   "id": "8d41190b-c1c6-4f11-a345-eb30e2f6dad0",
   "metadata": {},
   "outputs": [
    {
     "name": "stdout",
     "output_type": "stream",
     "text": [
      "{'Rating': '5', 'Review Summary': 'Best in the market!', 'Full Review': 'Good Camera'}\n",
      "{'Rating': '5', 'Review Summary': 'Terrific', 'Full Review': 'Very very good'}\n",
      "{'Rating': '5', 'Review Summary': 'Classy product', 'Full Review': 'Camera is awesome\\nBest battery backup\\nA performer 👌🏻\\nIt will be a real value for money if they provide charger and earphone inbox!'}\n",
      "{'Rating': '5', 'Review Summary': 'Worth every penny', 'Full Review': 'Feeling awesome after getting the delivery of my phone. Dual speakers makes the sound quality very loud. Amazing!!'}\n",
      "{'Rating': '5', 'Review Summary': 'Perfect product!', 'Full Review': 'Photos super'}\n",
      "{'Rating': '5', 'Review Summary': 'Terrific purchase', 'Full Review': 'Value for money 😍'}\n",
      "{'Rating': '5', 'Review Summary': 'Wonderful', 'Full Review': 'This is amazing at all'}\n",
      "{'Rating': '5', 'Review Summary': 'Excellent', 'Full Review': 'NYC'}\n",
      "{'Rating': '5', 'Review Summary': 'Brilliant', 'Full Review': 'very good camera quality'}\n",
      "{'Rating': '5', 'Review Summary': 'Perfect product!', 'Full Review': 'V Good all'}\n",
      "{'Rating': 'N/A', 'Review Summary': 'N/A', 'Full Review': 'N/A'}\n",
      "{'Rating': 'N/A', 'Review Summary': 'N/A', 'Full Review': 'N/A'}\n",
      "{'Rating': 'N/A', 'Review Summary': 'N/A', 'Full Review': 'N/A'}\n",
      "{'Rating': 'N/A', 'Review Summary': 'N/A', 'Full Review': 'N/A'}\n",
      "{'Rating': 'N/A', 'Review Summary': 'N/A', 'Full Review': 'N/A'}\n",
      "{'Rating': 'N/A', 'Review Summary': 'N/A', 'Full Review': 'N/A'}\n",
      "{'Rating': 'N/A', 'Review Summary': 'N/A', 'Full Review': 'N/A'}\n",
      "{'Rating': 'N/A', 'Review Summary': 'N/A', 'Full Review': 'N/A'}\n",
      "{'Rating': 'N/A', 'Review Summary': 'N/A', 'Full Review': 'N/A'}\n",
      "{'Rating': 'N/A', 'Review Summary': 'N/A', 'Full Review': 'N/A'}\n",
      "{'Rating': 'N/A', 'Review Summary': 'N/A', 'Full Review': 'N/A'}\n",
      "{'Rating': 'N/A', 'Review Summary': 'N/A', 'Full Review': 'N/A'}\n",
      "{'Rating': 'N/A', 'Review Summary': 'N/A', 'Full Review': 'N/A'}\n",
      "{'Rating': 'N/A', 'Review Summary': 'N/A', 'Full Review': 'N/A'}\n",
      "{'Rating': 'N/A', 'Review Summary': 'N/A', 'Full Review': 'N/A'}\n",
      "{'Rating': 'N/A', 'Review Summary': 'N/A', 'Full Review': 'N/A'}\n",
      "{'Rating': 'N/A', 'Review Summary': 'N/A', 'Full Review': 'N/A'}\n",
      "{'Rating': 'N/A', 'Review Summary': 'N/A', 'Full Review': 'N/A'}\n",
      "{'Rating': 'N/A', 'Review Summary': 'N/A', 'Full Review': 'N/A'}\n",
      "{'Rating': 'N/A', 'Review Summary': 'N/A', 'Full Review': 'N/A'}\n",
      "{'Rating': 'N/A', 'Review Summary': 'N/A', 'Full Review': 'N/A'}\n",
      "{'Rating': 'N/A', 'Review Summary': 'N/A', 'Full Review': 'N/A'}\n",
      "{'Rating': 'N/A', 'Review Summary': 'N/A', 'Full Review': 'N/A'}\n",
      "{'Rating': 'N/A', 'Review Summary': 'N/A', 'Full Review': 'N/A'}\n",
      "{'Rating': 'N/A', 'Review Summary': 'N/A', 'Full Review': 'N/A'}\n",
      "{'Rating': 'N/A', 'Review Summary': 'N/A', 'Full Review': 'N/A'}\n",
      "{'Rating': 'N/A', 'Review Summary': 'N/A', 'Full Review': 'N/A'}\n",
      "{'Rating': 'N/A', 'Review Summary': 'N/A', 'Full Review': 'N/A'}\n",
      "{'Rating': 'N/A', 'Review Summary': 'N/A', 'Full Review': 'N/A'}\n",
      "{'Rating': 'N/A', 'Review Summary': 'N/A', 'Full Review': 'N/A'}\n",
      "{'Rating': 'N/A', 'Review Summary': 'N/A', 'Full Review': 'N/A'}\n",
      "{'Rating': 'N/A', 'Review Summary': 'N/A', 'Full Review': 'N/A'}\n",
      "{'Rating': 'N/A', 'Review Summary': 'N/A', 'Full Review': 'N/A'}\n",
      "{'Rating': 'N/A', 'Review Summary': 'N/A', 'Full Review': 'N/A'}\n",
      "{'Rating': 'N/A', 'Review Summary': 'N/A', 'Full Review': 'N/A'}\n",
      "{'Rating': 'N/A', 'Review Summary': 'N/A', 'Full Review': 'N/A'}\n",
      "{'Rating': 'N/A', 'Review Summary': 'N/A', 'Full Review': 'N/A'}\n",
      "{'Rating': 'N/A', 'Review Summary': 'N/A', 'Full Review': 'N/A'}\n",
      "{'Rating': 'N/A', 'Review Summary': 'N/A', 'Full Review': 'N/A'}\n",
      "{'Rating': 'N/A', 'Review Summary': 'N/A', 'Full Review': 'N/A'}\n",
      "{'Rating': 'N/A', 'Review Summary': 'N/A', 'Full Review': 'N/A'}\n",
      "{'Rating': 'N/A', 'Review Summary': 'N/A', 'Full Review': 'N/A'}\n",
      "{'Rating': 'N/A', 'Review Summary': 'N/A', 'Full Review': 'N/A'}\n",
      "{'Rating': 'N/A', 'Review Summary': 'N/A', 'Full Review': 'N/A'}\n",
      "{'Rating': 'N/A', 'Review Summary': 'N/A', 'Full Review': 'N/A'}\n",
      "{'Rating': 'N/A', 'Review Summary': 'N/A', 'Full Review': 'N/A'}\n",
      "{'Rating': 'N/A', 'Review Summary': 'N/A', 'Full Review': 'N/A'}\n",
      "{'Rating': 'N/A', 'Review Summary': 'N/A', 'Full Review': 'N/A'}\n",
      "{'Rating': 'N/A', 'Review Summary': 'N/A', 'Full Review': 'N/A'}\n",
      "{'Rating': 'N/A', 'Review Summary': 'N/A', 'Full Review': 'N/A'}\n",
      "{'Rating': 'N/A', 'Review Summary': 'N/A', 'Full Review': 'N/A'}\n",
      "{'Rating': 'N/A', 'Review Summary': 'N/A', 'Full Review': 'N/A'}\n",
      "{'Rating': 'N/A', 'Review Summary': 'N/A', 'Full Review': 'N/A'}\n",
      "{'Rating': 'N/A', 'Review Summary': 'N/A', 'Full Review': 'N/A'}\n",
      "{'Rating': 'N/A', 'Review Summary': 'N/A', 'Full Review': 'N/A'}\n",
      "{'Rating': 'N/A', 'Review Summary': 'N/A', 'Full Review': 'N/A'}\n",
      "{'Rating': 'N/A', 'Review Summary': 'N/A', 'Full Review': 'N/A'}\n",
      "{'Rating': 'N/A', 'Review Summary': 'N/A', 'Full Review': 'N/A'}\n",
      "{'Rating': 'N/A', 'Review Summary': 'N/A', 'Full Review': 'N/A'}\n",
      "{'Rating': 'N/A', 'Review Summary': 'N/A', 'Full Review': 'N/A'}\n",
      "{'Rating': 'N/A', 'Review Summary': 'N/A', 'Full Review': 'N/A'}\n",
      "{'Rating': 'N/A', 'Review Summary': 'N/A', 'Full Review': 'N/A'}\n",
      "{'Rating': 'N/A', 'Review Summary': 'N/A', 'Full Review': 'N/A'}\n",
      "{'Rating': 'N/A', 'Review Summary': 'N/A', 'Full Review': 'N/A'}\n",
      "{'Rating': 'N/A', 'Review Summary': 'N/A', 'Full Review': 'N/A'}\n",
      "{'Rating': 'N/A', 'Review Summary': 'N/A', 'Full Review': 'N/A'}\n",
      "{'Rating': 'N/A', 'Review Summary': 'N/A', 'Full Review': 'N/A'}\n",
      "{'Rating': 'N/A', 'Review Summary': 'N/A', 'Full Review': 'N/A'}\n",
      "{'Rating': 'N/A', 'Review Summary': 'N/A', 'Full Review': 'N/A'}\n",
      "{'Rating': 'N/A', 'Review Summary': 'N/A', 'Full Review': 'N/A'}\n",
      "{'Rating': 'N/A', 'Review Summary': 'N/A', 'Full Review': 'N/A'}\n",
      "{'Rating': 'N/A', 'Review Summary': 'N/A', 'Full Review': 'N/A'}\n",
      "{'Rating': 'N/A', 'Review Summary': 'N/A', 'Full Review': 'N/A'}\n",
      "{'Rating': 'N/A', 'Review Summary': 'N/A', 'Full Review': 'N/A'}\n",
      "{'Rating': 'N/A', 'Review Summary': 'N/A', 'Full Review': 'N/A'}\n",
      "{'Rating': 'N/A', 'Review Summary': 'N/A', 'Full Review': 'N/A'}\n",
      "{'Rating': 'N/A', 'Review Summary': 'N/A', 'Full Review': 'N/A'}\n",
      "{'Rating': 'N/A', 'Review Summary': 'N/A', 'Full Review': 'N/A'}\n",
      "{'Rating': 'N/A', 'Review Summary': 'N/A', 'Full Review': 'N/A'}\n",
      "{'Rating': 'N/A', 'Review Summary': 'N/A', 'Full Review': 'N/A'}\n",
      "{'Rating': 'N/A', 'Review Summary': 'N/A', 'Full Review': 'N/A'}\n",
      "{'Rating': 'N/A', 'Review Summary': 'N/A', 'Full Review': 'N/A'}\n",
      "{'Rating': 'N/A', 'Review Summary': 'N/A', 'Full Review': 'N/A'}\n",
      "{'Rating': 'N/A', 'Review Summary': 'N/A', 'Full Review': 'N/A'}\n",
      "{'Rating': 'N/A', 'Review Summary': 'N/A', 'Full Review': 'N/A'}\n",
      "{'Rating': 'N/A', 'Review Summary': 'N/A', 'Full Review': 'N/A'}\n",
      "{'Rating': 'N/A', 'Review Summary': 'N/A', 'Full Review': 'N/A'}\n",
      "{'Rating': 'N/A', 'Review Summary': 'N/A', 'Full Review': 'N/A'}\n",
      "{'Rating': 'N/A', 'Review Summary': 'N/A', 'Full Review': 'N/A'}\n",
      "{'Rating': 'N/A', 'Review Summary': 'N/A', 'Full Review': 'N/A'}\n"
     ]
    }
   ],
   "source": [
    "# Output the scraped data\n",
    "for review in review_data:\n",
    "    print(review)"
   ]
  },
  {
   "cell_type": "code",
   "execution_count": 143,
   "id": "2234506e-fffe-4953-9fa0-758071a86ed8",
   "metadata": {},
   "outputs": [],
   "source": [
    "# No 4\n",
    "# Setup chrome webdriver\n",
    "driver = webdriver.Chrome()"
   ]
  },
  {
   "cell_type": "code",
   "execution_count": 145,
   "id": "f1a1864b-9948-46e7-a1f4-edbf1ae6656e",
   "metadata": {},
   "outputs": [],
   "source": [
    "# Opening the flipkart page on automated chrome browser\n",
    "driver.get(\"https://www.flipkart.com\")\n",
    "time.sleep(2)"
   ]
  },
  {
   "cell_type": "code",
   "execution_count": 147,
   "id": "53fde4aa-2bff-475c-b20c-e93c2560786b",
   "metadata": {},
   "outputs": [],
   "source": [
    "# Entering sneakers as required in the question\n",
    "product = driver.find_element(By.XPATH, '//input[@class=\"Pke_EE\"]')\n",
    "product.send_keys('Sneakers')\n",
    "time.sleep(2)"
   ]
  },
  {
   "cell_type": "code",
   "execution_count": 151,
   "id": "ffac6e1f-83bf-4739-b7bf-6bb374789ad4",
   "metadata": {},
   "outputs": [],
   "source": [
    "# CLicking the search button \n",
    "search = driver.find_element(By.XPATH, '//button[@class=\"_2iLD__\"]')\n",
    "search.click()"
   ]
  },
  {
   "cell_type": "code",
   "execution_count": 153,
   "id": "ae0eb95f-4593-4d6f-82fe-6751e7f5ea96",
   "metadata": {},
   "outputs": [],
   "source": [
    "# Scrape the data for the first 100 sneakers\n",
    "brand=[]\n",
    "product_description=[]\n",
    "price=[]"
   ]
  },
  {
   "cell_type": "code",
   "execution_count": 155,
   "id": "7533b1e6-af3c-4580-b340-3a878b2abee3",
   "metadata": {},
   "outputs": [],
   "source": [
    "#Scraping brand name from the given page\n",
    "brand_tags=driver.find_elements(By.XPATH,'//div[@class=\"syl9yP\"]')\n",
    "for i in brand_tags:\n",
    "    brands=i.text\n",
    "    brand.append(brands)"
   ]
  },
  {
   "cell_type": "code",
   "execution_count": 159,
   "id": "7b9029e6-6b7c-46ac-a9be-69b3e8384c7b",
   "metadata": {},
   "outputs": [],
   "source": [
    "#Scraping product description from the given page\n",
    "product_description_tags=driver.find_elements(By.XPATH,'//a[@class=\"WKTcLC BwBZTg\"]')\n",
    "for i in product_description_tags:\n",
    "    product_descriptions=i.text\n",
    "    product_description.append(product_descriptions)"
   ]
  },
  {
   "cell_type": "code",
   "execution_count": 161,
   "id": "91385e0d-7078-4818-809d-69474398a6e6",
   "metadata": {},
   "outputs": [],
   "source": [
    "#Scraping price from the given page\n",
    "price_tags=driver.find_elements(By.XPATH,'//div[@class=\"Nx9bqj\"]')\n",
    "for i in price_tags:\n",
    "    prices=i.text\n",
    "    price.append(prices)"
   ]
  },
  {
   "cell_type": "code",
   "execution_count": 163,
   "id": "5d18a2fa-099f-4246-8443-fba7a9073c56",
   "metadata": {},
   "outputs": [],
   "source": [
    "# List to store the data\n",
    "product_data=[]\n",
    "# Loop through the first 100 product details\n",
    "for i in range(100):\n",
    "    brand = brand_tags[i].text if i < len(brand_tags) else \"N/A\"\n",
    "    product_description = product_description_tags[i].text if i < len(product_description_tags) else \"N/A\"\n",
    "    price = price_tags[i].text if i < len(price_tags) else \"N/A\"\n",
    "    \n",
    "# append data for each review \n",
    "    review_data.append({\n",
    "        'Brand Name': brand,\n",
    "        'Product Description': product_description,\n",
    "        'Price': price,\n",
    "    })"
   ]
  },
  {
   "cell_type": "code",
   "execution_count": 172,
   "id": "2595010c-d776-4dc8-aee1-261d7fae1996",
   "metadata": {},
   "outputs": [],
   "source": [
    "# Output the scraped data\n",
    "for product in product_data:\n",
    "    print(product)"
   ]
  },
  {
   "cell_type": "code",
   "execution_count": 303,
   "id": "5ab4057e-6337-4df8-a859-7039d73e6b99",
   "metadata": {},
   "outputs": [],
   "source": [
    "# No 5\n",
    "# Setup chrome webdriver\n",
    "driver = webdriver.Chrome()"
   ]
  },
  {
   "cell_type": "code",
   "execution_count": 305,
   "id": "9ca63ccc-8d85-4fce-8d0c-2450b4e7d383",
   "metadata": {},
   "outputs": [],
   "source": [
    "# Opening the amazon page on automated chrome browser\n",
    "driver.get(\"https://www.amazon.in\")\n",
    "time.sleep(2)"
   ]
  },
  {
   "cell_type": "code",
   "execution_count": 307,
   "id": "7fdff3a9-e548-42e8-8aa8-d33d36b6c243",
   "metadata": {},
   "outputs": [],
   "source": [
    "# Enter laptop as required in the question\n",
    "product = driver.find_element(By.XPATH, '//input[@class=\"nav-input nav-progressive-attribute\"]')\n",
    "product.send_keys('Laptop')\n",
    "time.sleep(2)"
   ]
  },
  {
   "cell_type": "code",
   "execution_count": 309,
   "id": "8bbdafda-8454-4b33-a46d-9809beef77ed",
   "metadata": {},
   "outputs": [],
   "source": [
    "# CLicking the search button \n",
    "search = driver.find_element(By.XPATH, '//div[@class=\"nav-search-submit nav-sprite\"]')\n",
    "search.click()"
   ]
  },
  {
   "cell_type": "code",
   "execution_count": 311,
   "id": "b92131ed-2a5c-4572-b1b0-6397169d1ac3",
   "metadata": {},
   "outputs": [],
   "source": [
    "# Selecting cpu type by checking the respective check boxes\n",
    "cpu_type_filter = driver.find_element(By.XPATH, \"//span[text()='Intel Core i7']/ancestor::li//i[@class='a-icon a-icon-checkbox']\")\n",
    "cpu_type_filter.click()"
   ]
  },
  {
   "cell_type": "code",
   "execution_count": 313,
   "id": "d3623284-20d3-43ee-91de-10103db70695",
   "metadata": {},
   "outputs": [],
   "source": [
    "# Scrape the data for the first 100 sneakers\n",
    "title=[]\n",
    "ratings=[]\n",
    "price=[]"
   ]
  },
  {
   "cell_type": "code",
   "execution_count": 315,
   "id": "64e3482b-7960-424c-9177-11c24ef8d3de",
   "metadata": {},
   "outputs": [],
   "source": [
    "#Scraping title name from the given page\n",
    "title_tags=driver.find_elements(By.XPATH,'//a[@class=\"a-link-normal s-underline-text s-underline-link-text s-link-style a-text-normal\"]')\n",
    "for i in title_tags:\n",
    "    titles=i.text\n",
    "    title.append(titles)"
   ]
  },
  {
   "cell_type": "code",
   "execution_count": 317,
   "id": "7ff11c7f-00f4-4d44-84ae-e727d518b9cb",
   "metadata": {},
   "outputs": [],
   "source": [
    "#Scraping ratings from the given page\n",
    "ratings_tags=driver.find_elements(By.XPATH,'//span[@class=\"a-icon-alt\"]')\n",
    "for i in ratings_tags:\n",
    "    ratings_list=i.text.strip()\n",
    "    if ratings_list:\n",
    "        ratings.append(ratings_list)"
   ]
  },
  {
   "cell_type": "code",
   "execution_count": 319,
   "id": "8bd5e7f1-588e-4d2e-972d-aefa1ae29646",
   "metadata": {},
   "outputs": [],
   "source": [
    "#Scraping ratings from the given page\n",
    "ratings_tags=driver.find_elements(By.XPATH,'//span[@class=\"a-icon-alt\"]')\n",
    "for i in ratings_tags:\n",
    "    ratings_list=i.get_attribute(\"aria-label\")\n",
    "    if ratings_list:\n",
    "        ratings.append(ratings_list)"
   ]
  },
  {
   "cell_type": "code",
   "execution_count": 321,
   "id": "07a599a3-461e-4cb5-b52b-8d848029e003",
   "metadata": {},
   "outputs": [],
   "source": [
    "#Scraping price from the given page\n",
    "price_tags=driver.find_elements(By.XPATH,'//span[@class=\"a-price-whole\"]')\n",
    "for i in price_tags:\n",
    "    prices=i.text\n",
    "    price.append(prices)"
   ]
  },
  {
   "cell_type": "code",
   "execution_count": 323,
   "id": "6b9cb1c1-d648-4d8a-9e9b-99f1b8a5a48d",
   "metadata": {},
   "outputs": [],
   "source": [
    "# List to store the data\n",
    "product_data=[]\n",
    "# Loop through the first 10 laptop details\n",
    "for i in range(10):\n",
    "    title = title_tags[i].text if i < len(title_tags) else \"N/A\"\n",
    "    ratings = ratings_tags[i].text if i < len(ratings_tags) else \"N/A\"\n",
    "    price = price_tags[i].text if i < len(price_tags) else \"N/A\"\n",
    "    \n",
    "# append data for each review \n",
    "    product_data.append({\n",
    "        'Title': title,\n",
    "        'Ratings': ratings,\n",
    "        'Price': price,\n",
    "    })"
   ]
  },
  {
   "cell_type": "code",
   "execution_count": 287,
   "id": "d0f5196b-e73e-422c-bb8d-9042cdf14066",
   "metadata": {},
   "outputs": [
    {
     "name": "stdout",
     "output_type": "stream",
     "text": [
      "{'Title': 'HP Laptop 15s, 12th Gen Intel Core i7-1255U, 15.6-inch (39.6 cm), FHD, 16GB DDR4, 512GB SSD, Intel Iris Xe graphics, Backlit KB, Thin & light (Win 11, MSO 2021, Silver, 1.69 kg), fq5190TU', 'Ratings': '', 'Price': '46,490'}\n",
      "{'Title': 'Dell [Smartchoice] Inspiron 5430 Thin & Light Laptop, 13th Gen Intel Core i7-1360P/16GB/1TB SSD/14.0\" (35.56cm) FHD+ WVA 250 nits/Backlit KB + FPR/Windows 11 + MSO\\'21/15 Month McAfee/Silver/1.59kg', 'Ratings': '', 'Price': '52,990'}\n",
      "{'Title': 'HP Pavilion 14 12th Gen Intel Core i7 16GB SDRAM/1TB SSD 14 inch(35.6cm) FHD,IPS,Micro-Edge Display/Intel Iris Xe Graphics/B&O/Win 11/Backlit KB/FPR/MSO 2021/Natural Silver,14-dv2015TU', 'Ratings': '', 'Price': '47,990'}\n",
      "{'Title': 'NSXEEN Portable Laptop Stand, Aluminum Adjustable Eye-Level Ergonomic Height Compatible for MacBook Notebook Computer PC iPad Tablet, Ultra-Thin Light Weight Desktop Notebook Holder Riser I Silver- Pack Of 1 |', 'Ratings': '', 'Price': '59,990'}\n",
      "{'Title': 'Acer ALG 13th Gen Intel Core i7 Gaming Laptop (16GB DDR4/512GB SSD/6GB RTX 3050 Graphics/144Hz/Win11Home/Wifi 6) AL15G-53, 39.62cm (15.6 inch) FHD Display, Premium Metal Body, Steel Gray, 1.99KG', 'Ratings': '', 'Price': '75,490'}\n",
      "{'Title': 'Acer Aspire Lite 12th Gen Intel Core i7-1255U Premium Metal Laptop (Windows 11 Home/16 GB RAM/512 GB SSD) AL15-52, 39.62cm (15.6\") Full HD Display, Metal Body, Steel Gray, 1.59 Kg', 'Ratings': '', 'Price': '76,990'}\n",
      "{'Title': 'ASUS Vivobook 15, 15.6\" (39.62cm) FHD, Intel Core i7-12700H 12th Gen, Thin and Light Laptop (16GB/512GB SSD/Intel Iris Xᵉ Graphics/Windows 11/Office 2021/Quiet Blue/1.7 Kg), X1502ZA-EJ744WS', 'Ratings': '', 'Price': '449'}\n",
      "{'Title': '(Refurbished) Dell Latitude 7480 14in FHD Laptop PC - Intel Core i7-6600U 2.6GHz 16GB 512GB SSD Windows 10 Professional', 'Ratings': '', 'Price': '71,990'}\n",
      "{'Title': 'Acer Aspire 3 Intel Core i7 12th Gen 1255U - (16 GB/512 GB SSD/Windows 11 Home) A324-51 Thin and Light Laptop, Backlit Keyboard (14 Inch, Steel Gray, 1.45 Kg)', 'Ratings': '', 'Price': '49,990'}\n",
      "{'Title': 'MSI Thin 15, Intel 13th Gen. Core i7-13620H, 40CM FHD 144Hz Gaming Laptop(16GB/512GB NVMe SSD/Windows 11 Home/NVIDIA GeForce RTX 3050,GDDR6 4GB/Cosmos Gray/1.86Kg), B13UC-1804IN', 'Ratings': '', 'Price': '61,990'}\n"
     ]
    }
   ],
   "source": [
    "# Output the scraped data\n",
    "for product in product_data:\n",
    "    print(product)"
   ]
  },
  {
   "cell_type": "code",
   "execution_count": 325,
   "id": "6c27c751-c3eb-407c-8a71-38e57dde8d74",
   "metadata": {},
   "outputs": [
    {
     "name": "stdout",
     "output_type": "stream",
     "text": [
      "                                               Title Ratings   Price\n",
      "0  HP Laptop 15s, 12th Gen Intel Core i7-1255U, 1...          59,990\n",
      "1  Dell [Smartchoice] Inspiron 5430 Thin & Light ...          75,490\n",
      "2  HP Pavilion 14 12th Gen Intel Core i7 16GB SDR...          76,990\n",
      "3  ASUS Vivobook 15, 15.6\" (39.62cm) FHD, Intel C...          61,990\n",
      "4  Acer Aspire Lite 12th Gen Intel Core i7-1255U ...          49,990\n",
      "5  Acer ALG 13th Gen Intel Core i7 Gaming Laptop ...          71,990\n",
      "6  (Refurbished) Dell Latitude 7480 14in FHD Lapt...          27,531\n",
      "7  Acer Aspire Lite 12th Gen Intel Core i7-1255U ...          55,990\n",
      "8  MSI Thin 15, Intel 13th Gen. Core i7-13620H, 4...          69,990\n",
      "9  Dell Inspiron 3530 Laptop, 13th Generation Int...          69,890\n"
     ]
    }
   ],
   "source": [
    "# Create Data frame\n",
    "df = pd.DataFrame(product_data)\n",
    "\n",
    "print(df)"
   ]
  },
  {
   "cell_type": "code",
   "execution_count": 5,
   "id": "478cc15e-bf57-47d0-b59c-6ea6576d0ede",
   "metadata": {},
   "outputs": [],
   "source": [
    "from selenium.webdriver.support.ui import WebDriverWait\n",
    "from selenium.webdriver.support import expected_conditions as EC"
   ]
  },
  {
   "cell_type": "code",
   "execution_count": 7,
   "id": "efd4fedc-20b2-4094-8511-306e974897fb",
   "metadata": {},
   "outputs": [],
   "source": [
    "# No 6\n",
    "# Setup chrome webdriver and open the website\n",
    "driver = webdriver.Chrome()\n",
    "driver.get('https://www.azquotes.com/')\n",
    "time.sleep(2)"
   ]
  },
  {
   "cell_type": "code",
   "execution_count": 11,
   "id": "be56f31c-3ed6-44b9-b6b7-4ef9091a0643",
   "metadata": {},
   "outputs": [],
   "source": [
    "# Use WebDriverWait for clicking \"Top Quotes\"\n",
    "top_quotes_button = WebDriverWait(driver, 10).until(\n",
    "    EC.element_to_be_clickable((By.XPATH, '//a[@href=\"/top_quotes.html\"]'))\n",
    ")\n",
    "top_quotes_button.click()"
   ]
  },
  {
   "cell_type": "code",
   "execution_count": 15,
   "id": "c2029e27-69ac-4fc8-be8e-8a187685afbc",
   "metadata": {},
   "outputs": [],
   "source": [
    "# List to hold scraped data\n",
    "quotes_data = []\n",
    "\n",
    "# Function to scrape quotes on the current page\n",
    "def scrape_quotes():\n",
    "    # Scraping the Quotes, Authors, and Types of Quotes using XPath\n",
    "    quote_tags = driver.find_elements(By.XPATH, '//a[@href=\"/quote/234635\"]')\n",
    "    author_tags = driver.find_elements(By.XPATH, '//a[@href=\"/author/11790-Michael_Porter\"]')\n",
    "    type_tags = driver.find_elements(By.XPATH, '//div[@class=\"tags\"]')\n",
    "    \n",
    "    for i in range(len(quote_elements)):\n",
    "        quote_text = quote_tagss[i].text if i < len(quote_tags) else \"N/A\"\n",
    "        author = author_tags[i].text if i < len(author_tags) else \"N/A\"\n",
    "        quote_type = type_tags[i].text if i < len(type_tags) else \"N/A\"\n",
    "\n",
    "        quotes_data.append({\n",
    "            'Quote': quote_text,\n",
    "            'Author': author,\n",
    "            'Type of Quotes': quote_type\n",
    "        })"
   ]
  },
  {
   "cell_type": "code",
   "execution_count": 25,
   "id": "23578657-4abe-496a-87da-269f8f6d02c2",
   "metadata": {},
   "outputs": [
    {
     "ename": "SyntaxError",
     "evalue": "invalid syntax (3171487158.py, line 15)",
     "output_type": "error",
     "traceback": [
      "\u001b[1;36m  Cell \u001b[1;32mIn[25], line 15\u001b[1;36m\u001b[0m\n\u001b[1;33m    Except exception as e:\u001b[0m\n\u001b[1;37m           ^\u001b[0m\n\u001b[1;31mSyntaxError\u001b[0m\u001b[1;31m:\u001b[0m invalid syntax\n"
     ]
    }
   ],
   "source": [
    "# Scrape multiple pages to gather 1000 quotes\n",
    "while len(quotes_data) < 1000:\n",
    "    # Scrape quotes from the current page\n",
    "    scrape_quotes()\n",
    "\n",
    "    # Check if there is a next page and click it\n",
    "    try:\n",
    "        next_button = WebDriverWait(driver, 10).until(\n",
    "            EC.element_to_be_clickable((By.XPATH, '//a[@href=\"top_quotes.html?p=2\"]'))\n",
    "        )\n",
    "        next_button.click()\n",
    "\n",
    "        # Give time for the next page to load\n",
    "        time.sleep(2)\n",
    "        Except exception as e:\n",
    "        print(f\"Error navigating to the next page: {e}\")\n",
    "        break\n",
    "\n",
    "# Print the total number of quotes scraped\n",
    "print(f\"Total quotes scraped: {len(quotes_data)}\")\n",
    "\n",
    "# Output some scraped quotes to check\n",
    "for quote in quotes_data[:1000]:  \n",
    "    print(quote)"
   ]
  },
  {
   "cell_type": "code",
   "execution_count": 27,
   "id": "aa7d5db6-08ba-481b-97cd-c491fdf700e2",
   "metadata": {},
   "outputs": [],
   "source": [
    "# No 7\n",
    "# Set up Selenium WebDriver\n",
    "driver = webdriver.Chrome()\n",
    "\n",
    "# Open the target URL\n",
    "url = \"https://www.jagranjosh.com/general-knowledge/list-of-all-prime-ministers-of-india-1473165149-1\"\n",
    "driver.get(url)\n",
    "time.sleep(5)"
   ]
  },
  {
   "cell_type": "code",
   "execution_count": 31,
   "id": "83706c13-c81d-4c15-b832-26f30dda86c3",
   "metadata": {},
   "outputs": [],
   "source": [
    "rows = driver.find_elements(By.XPATH, '//img[@src=\"https://img.jagranjosh.com/imported/images/E/Articles/list-of-all-prime-minister-india.webp\"]')"
   ]
  },
  {
   "cell_type": "code",
   "execution_count": 33,
   "id": "a0122b86-6b9a-409c-a040-9e6c41f63fc7",
   "metadata": {},
   "outputs": [],
   "source": [
    "names = []\n",
    "born_dead = []\n",
    "term_of_office = []\n",
    "remarks = []\n"
   ]
  },
  {
   "cell_type": "code",
   "execution_count": 35,
   "id": "174fed26-2673-4843-9689-3a828e382243",
   "metadata": {},
   "outputs": [],
   "source": [
    "for row in rows:\n",
    "    columns = row.find_elements(By.TAG_NAME, \"td\")\n",
    "    if len(columns) == 4:\n",
    "        names.append(columns[0].text.strip())\n",
    "        born_dead.append(columns[1].text.strip())\n",
    "        term_of_office.append(columns[2].text.strip())\n",
    "        remarks.append(columns[3].text.strip())"
   ]
  },
  {
   "cell_type": "code",
   "execution_count": 43,
   "id": "1d9f4fd9-a6bf-4f18-b924-e8bee4271178",
   "metadata": {},
   "outputs": [],
   "source": [
    "#Create a DataFrame\n",
    "df = pd.DataFrame({\n",
    "    \"Name\": names,\n",
    "    \"Born-Dead\": born_dead,\n",
    "    \"Term of Office\": term_of_office,\n",
    "    \"Remarks\": remarks\n",
    "})"
   ]
  },
  {
   "cell_type": "code",
   "execution_count": 45,
   "id": "d44bb0cb-9f1a-42b6-bc02-c5887c2b3b27",
   "metadata": {},
   "outputs": [
    {
     "name": "stdout",
     "output_type": "stream",
     "text": [
      "Empty DataFrame\n",
      "Columns: [Name, Born-Dead, Term of Office, Remarks]\n",
      "Index: []\n"
     ]
    }
   ],
   "source": [
    "print(df)"
   ]
  }
 ],
 "metadata": {
  "kernelspec": {
   "display_name": "Python 3 (ipykernel)",
   "language": "python",
   "name": "python3"
  },
  "language_info": {
   "codemirror_mode": {
    "name": "ipython",
    "version": 3
   },
   "file_extension": ".py",
   "mimetype": "text/x-python",
   "name": "python",
   "nbconvert_exporter": "python",
   "pygments_lexer": "ipython3",
   "version": "3.11.7"
  }
 },
 "nbformat": 4,
 "nbformat_minor": 5
}
